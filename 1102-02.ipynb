{
 "cells": [
  {
   "cell_type": "code",
   "execution_count": null,
   "id": "ce3160df",
   "metadata": {},
   "outputs": [],
   "source": [
    "#실습) 리스트 x를 만드세요\n",
    "#x에는 각 원소로 49, 96, '안녕하세요', 77, 3.44 이 다섯가지가 들어가 있어야 합니다.\n",
    "x = [49, 96, '안녕하세요', 77, 3.44 ]\n",
    "print(x)\n",
    "print(x[3])\n",
    "print(x[0])\n",
    "x[0] = x[0] + 70\n",
    "print(x[0])\n",
    "x.append(['hello'])\n",
    "print(x)\n",
    "#리스트가 그대로 들어감."
   ]
  },
  {
   "cell_type": "code",
   "execution_count": null,
   "id": "6a5827e6",
   "metadata": {},
   "outputs": [],
   "source": [
    "# 얕은 복사와 깊은 복사\n",
    "# 얕은 복사: 두 변수가 같은 주소를 향하게 한다.\n",
    "# 예를 들어, 컴퓨터 메모리에 0x44 주소가 있다고 가정을 한다.\n",
    "# a = 1 이렇게 할 경우\n",
    "# 0x44 주소에 1이 저장되고, a는 0x44 주소를 나타내게 된다.\n",
    "# 깊은 복사: 두 변수가 다른 주소를 향한다.\n",
    "# b = a.copy() 이렇게 할 경우\n",
    "# 08c9 주소에 1이 저장되고,\n",
    "# a는 0x44 주소, b는 08c9 주소를 나타내게 된다.\n",
    "\n",
    "#얕은 복사의 예\n",
    "a = 1\n",
    "b = a\n",
    "print(b)\n",
    "a += 1\n",
    "print(b)\n",
    "print(a)\n",
    "\n",
    "#깊은 복사의 예\n",
    "x = [256]\n",
    "y = x.copy()\n",
    "print(y)\n",
    "\n",
    "#다른 값을 바꾸고 싶을 때 예를 들면 b의 값을 바꾸면 a의 값도 바꾸기 때문에 오류를 방지하기 위해서 카피를 씀.\n",
    "# 원본 데이터의 중요성, 데이터 소실방지"
   ]
  },
  {
   "cell_type": "code",
   "execution_count": 3,
   "id": "c4e54a71",
   "metadata": {},
   "outputs": [
    {
     "ename": "SyntaxError",
     "evalue": "invalid syntax (835738126.py, line 1)",
     "output_type": "error",
     "traceback": [
      "\u001b[1;36m  File \u001b[1;32m\"C:\\Users\\user\\AppData\\Local\\Temp\\ipykernel_16848\\835738126.py\"\u001b[1;36m, line \u001b[1;32m1\u001b[0m\n\u001b[1;33m    x = [[1, 2, 3], [4, 5, 6], [7. 8. 9]]\u001b[0m\n\u001b[1;37m                                   ^\u001b[0m\n\u001b[1;31mSyntaxError\u001b[0m\u001b[1;31m:\u001b[0m invalid syntax\n"
     ]
    }
   ],
   "source": [
    "x = [[1, 2, 3], [4, 5, 6], [7. 8. 9]]"
   ]
  },
  {
   "cell_type": "code",
   "execution_count": 2,
   "id": "bf8f113d",
   "metadata": {},
   "outputs": [
    {
     "data": {
      "text/plain": [
       "[[1, 2, 3], [1, 2, 3], [1, 2, 3]]"
      ]
     },
     "execution_count": 2,
     "metadata": {},
     "output_type": "execute_result"
    }
   ],
   "source": [
    "x"
   ]
  },
  {
   "cell_type": "code",
   "execution_count": 4,
   "id": "3396a90d",
   "metadata": {},
   "outputs": [
    {
     "data": {
      "text/plain": [
       "[[1, 2, 3], [1, 2, 3], [1, 2, 3]]"
      ]
     },
     "execution_count": 4,
     "metadata": {},
     "output_type": "execute_result"
    }
   ],
   "source": [
    "x"
   ]
  },
  {
   "cell_type": "code",
   "execution_count": 5,
   "id": "2eb2a7fc",
   "metadata": {
    "scrolled": true
   },
   "outputs": [
    {
     "name": "stdout",
     "output_type": "stream",
     "text": [
      "[1, 2, 3]\n",
      "[1, 2, 3]\n",
      "[1, 2, 3]\n"
     ]
    }
   ],
   "source": [
    "for i in x:\n",
    "    print(i)"
   ]
  },
  {
   "cell_type": "code",
   "execution_count": 6,
   "id": "646963fb",
   "metadata": {},
   "outputs": [],
   "source": [
    "x = [[1, 2], [2, 3], [3, 4], [4, 5], [5, 6]]"
   ]
  },
  {
   "cell_type": "code",
   "execution_count": 7,
   "id": "f4e69d7c",
   "metadata": {},
   "outputs": [],
   "source": [
    "x =[[1, 2], [2, 3]], [[3, 4], [4, 5]], [[5, 6], [6, 7]]"
   ]
  },
  {
   "cell_type": "code",
   "execution_count": 8,
   "id": "6813fef5",
   "metadata": {},
   "outputs": [
    {
     "name": "stdout",
     "output_type": "stream",
     "text": [
      "[1, 2]\n",
      "[2, 3]\n",
      "[3, 4]\n",
      "[4, 5]\n",
      "[5, 6]\n",
      "[6, 7]\n"
     ]
    }
   ],
   "source": [
    "for i in x:\n",
    "    for j in i:\n",
    "        print(j) # 이중 배열"
   ]
  },
  {
   "cell_type": "code",
   "execution_count": 9,
   "id": "6b8a6c44",
   "metadata": {},
   "outputs": [
    {
     "name": "stdout",
     "output_type": "stream",
     "text": [
      "[[1, 2], [2, 3]]\n",
      "[[3, 4], [4, 5]]\n",
      "[[5, 6], [6, 7]]\n"
     ]
    }
   ],
   "source": [
    "for i in x:\n",
    "    print(i)"
   ]
  },
  {
   "cell_type": "code",
   "execution_count": 10,
   "id": "3fa9fb8d",
   "metadata": {},
   "outputs": [],
   "source": [
    "#튜플\n",
    "t = (1, 2, 3)"
   ]
  },
  {
   "cell_type": "code",
   "execution_count": 11,
   "id": "6632a40c",
   "metadata": {},
   "outputs": [
    {
     "data": {
      "text/plain": [
       "tuple"
      ]
     },
     "execution_count": 11,
     "metadata": {},
     "output_type": "execute_result"
    }
   ],
   "source": [
    "type((1, 2, 3))"
   ]
  },
  {
   "cell_type": "code",
   "execution_count": 12,
   "id": "4a627e0c",
   "metadata": {},
   "outputs": [
    {
     "data": {
      "text/plain": [
       "list"
      ]
     },
     "execution_count": 12,
     "metadata": {},
     "output_type": "execute_result"
    }
   ],
   "source": [
    "type([1, 2, 3])"
   ]
  },
  {
   "cell_type": "code",
   "execution_count": 13,
   "id": "74b8bc60",
   "metadata": {},
   "outputs": [
    {
     "data": {
      "text/plain": [
       "(1, 2, 3)"
      ]
     },
     "execution_count": 13,
     "metadata": {},
     "output_type": "execute_result"
    }
   ],
   "source": [
    "t"
   ]
  },
  {
   "cell_type": "code",
   "execution_count": 14,
   "id": "e254848c",
   "metadata": {},
   "outputs": [
    {
     "data": {
      "text/plain": [
       "1"
      ]
     },
     "execution_count": 14,
     "metadata": {},
     "output_type": "execute_result"
    }
   ],
   "source": [
    "t[0]"
   ]
  },
  {
   "cell_type": "code",
   "execution_count": 15,
   "id": "26c2bff8",
   "metadata": {},
   "outputs": [
    {
     "data": {
      "text/plain": [
       "(2, 3)"
      ]
     },
     "execution_count": 15,
     "metadata": {},
     "output_type": "execute_result"
    }
   ],
   "source": [
    "t[1:] #리스트랑 비슷하지만 튜플은 뭐가 다른가"
   ]
  },
  {
   "cell_type": "code",
   "execution_count": 16,
   "id": "d0839fe3",
   "metadata": {},
   "outputs": [
    {
     "ename": "TypeError",
     "evalue": "'tuple' object does not support item assignment",
     "output_type": "error",
     "traceback": [
      "\u001b[1;31m---------------------------------------------------------------------------\u001b[0m",
      "\u001b[1;31mTypeError\u001b[0m                                 Traceback (most recent call last)",
      "\u001b[1;32m~\\AppData\\Local\\Temp\\ipykernel_16848\\1305094899.py\u001b[0m in \u001b[0;36m<module>\u001b[1;34m\u001b[0m\n\u001b[1;32m----> 1\u001b[1;33m \u001b[0mt\u001b[0m\u001b[1;33m[\u001b[0m\u001b[1;36m0\u001b[0m\u001b[1;33m]\u001b[0m \u001b[1;33m=\u001b[0m \u001b[0mt\u001b[0m\u001b[1;33m[\u001b[0m\u001b[1;36m0\u001b[0m\u001b[1;33m]\u001b[0m \u001b[1;33m+\u001b[0m \u001b[1;36m1\u001b[0m\u001b[1;33m\u001b[0m\u001b[1;33m\u001b[0m\u001b[0m\n\u001b[0m",
      "\u001b[1;31mTypeError\u001b[0m: 'tuple' object does not support item assignment"
     ]
    }
   ],
   "source": [
    "t[0] = t[0] + 1 #값을 바꾸는 것이 안되는 게 리스트와의 대표 차이점!! 한번 선언하면 끝"
   ]
  },
  {
   "cell_type": "code",
   "execution_count": 17,
   "id": "ec918b30",
   "metadata": {},
   "outputs": [
    {
     "name": "stdout",
     "output_type": "stream",
     "text": [
      "{'home': '02-123-4567'}\n",
      "{'home': '02-123-4567', 'office': '765-432-01'}\n"
     ]
    },
    {
     "ename": "KeyError",
     "evalue": "0",
     "output_type": "error",
     "traceback": [
      "\u001b[1;31m---------------------------------------------------------------------------\u001b[0m",
      "\u001b[1;31mKeyError\u001b[0m                                  Traceback (most recent call last)",
      "\u001b[1;32m~\\AppData\\Local\\Temp\\ipykernel_16848\\626121249.py\u001b[0m in \u001b[0;36m<module>\u001b[1;34m\u001b[0m\n\u001b[0;32m      6\u001b[0m \u001b[0md\u001b[0m \u001b[1;33m=\u001b[0m \u001b[1;33m{\u001b[0m\u001b[1;34m'home'\u001b[0m\u001b[1;33m:\u001b[0m \u001b[1;34m'02-123-4567'\u001b[0m\u001b[1;33m,\u001b[0m \u001b[1;34m'office'\u001b[0m\u001b[1;33m:\u001b[0m \u001b[1;34m'765-432-01'\u001b[0m\u001b[1;33m}\u001b[0m\u001b[1;33m\u001b[0m\u001b[1;33m\u001b[0m\u001b[0m\n\u001b[0;32m      7\u001b[0m \u001b[0mprint\u001b[0m\u001b[1;33m(\u001b[0m\u001b[0md\u001b[0m\u001b[1;33m)\u001b[0m\u001b[1;33m\u001b[0m\u001b[1;33m\u001b[0m\u001b[0m\n\u001b[1;32m----> 8\u001b[1;33m \u001b[0md\u001b[0m\u001b[1;33m[\u001b[0m\u001b[1;36m0\u001b[0m\u001b[1;33m]\u001b[0m\u001b[1;33m\u001b[0m\u001b[1;33m\u001b[0m\u001b[0m\n\u001b[0m",
      "\u001b[1;31mKeyError\u001b[0m: 0"
     ]
    }
   ],
   "source": [
    "#딕셔너리\n",
    "d = {'home': '02-123-4567'}\n",
    "#사전처럼 일부 데이터를 처리할때는 조금 더 효율적으로 처리할 수 있음.\n",
    "#d의 key는 'home', d의 value는 '02-123-4567'\n",
    "print(d)\n",
    "d = {'home': '02-123-4567', 'office': '765-432-01'}\n",
    "print(d)\n",
    "d[0] # 순서 기반 인덱싱 불가"
   ]
  },
  {
   "cell_type": "code",
   "execution_count": 18,
   "id": "3c25203c",
   "metadata": {},
   "outputs": [
    {
     "data": {
      "text/plain": [
       "'02-123-4567'"
      ]
     },
     "execution_count": 18,
     "metadata": {},
     "output_type": "execute_result"
    }
   ],
   "source": [
    "d['home'] # key-value 관계를 이용한 인덱싱"
   ]
  },
  {
   "cell_type": "code",
   "execution_count": 19,
   "id": "35ca0afd",
   "metadata": {},
   "outputs": [],
   "source": [
    "d2 = {'korea': ['seoul', 'busan', 'daegu'], 'usa': ['la', 'ny', 'huston']}"
   ]
  },
  {
   "cell_type": "code",
   "execution_count": 20,
   "id": "cbdc690e",
   "metadata": {},
   "outputs": [
    {
     "data": {
      "text/plain": [
       "{'korea': ['seoul', 'busan', 'daegu'], 'usa': ['la', 'ny', 'huston']}"
      ]
     },
     "execution_count": 20,
     "metadata": {},
     "output_type": "execute_result"
    }
   ],
   "source": [
    "d2"
   ]
  },
  {
   "cell_type": "code",
   "execution_count": 21,
   "id": "1d9f3bc3",
   "metadata": {},
   "outputs": [
    {
     "data": {
      "text/plain": [
       "'busan'"
      ]
     },
     "execution_count": 21,
     "metadata": {},
     "output_type": "execute_result"
    }
   ],
   "source": [
    "d2['korea'][1]"
   ]
  },
  {
   "cell_type": "code",
   "execution_count": 22,
   "id": "28fb218d",
   "metadata": {},
   "outputs": [
    {
     "ename": "IndexError",
     "evalue": "list assignment index out of range",
     "output_type": "error",
     "traceback": [
      "\u001b[1;31m---------------------------------------------------------------------------\u001b[0m",
      "\u001b[1;31mIndexError\u001b[0m                                Traceback (most recent call last)",
      "\u001b[1;32m~\\AppData\\Local\\Temp\\ipykernel_16848\\265570771.py\u001b[0m in \u001b[0;36m<module>\u001b[1;34m\u001b[0m\n\u001b[1;32m----> 1\u001b[1;33m \u001b[0md2\u001b[0m\u001b[1;33m[\u001b[0m\u001b[1;34m'korea'\u001b[0m\u001b[1;33m]\u001b[0m\u001b[1;33m[\u001b[0m\u001b[1;36m3\u001b[0m\u001b[1;33m]\u001b[0m \u001b[1;33m=\u001b[0m \u001b[1;34m'gwangju'\u001b[0m\u001b[1;33m\u001b[0m\u001b[1;33m\u001b[0m\u001b[0m\n\u001b[0m",
      "\u001b[1;31mIndexError\u001b[0m: list assignment index out of range"
     ]
    }
   ],
   "source": [
    "d2['korea'][3] = 'gwangju'"
   ]
  },
  {
   "cell_type": "code",
   "execution_count": 23,
   "id": "512c0d46",
   "metadata": {},
   "outputs": [],
   "source": [
    "d2['korea'].append('gwangju')"
   ]
  },
  {
   "cell_type": "code",
   "execution_count": 24,
   "id": "71a271ed",
   "metadata": {},
   "outputs": [
    {
     "data": {
      "text/plain": [
       "{'korea': ['seoul', 'busan', 'daegu', 'gwangju'],\n",
       " 'usa': ['la', 'ny', 'huston']}"
      ]
     },
     "execution_count": 24,
     "metadata": {},
     "output_type": "execute_result"
    }
   ],
   "source": [
    "d2"
   ]
  },
  {
   "cell_type": "code",
   "execution_count": 27,
   "id": "9cdb0920",
   "metadata": {},
   "outputs": [],
   "source": [
    "#set\n",
    "s = {1, 2, 3, 4, 5}"
   ]
  },
  {
   "cell_type": "code",
   "execution_count": 28,
   "id": "092fdd9b",
   "metadata": {},
   "outputs": [
    {
     "data": {
      "text/plain": [
       "set"
      ]
     },
     "execution_count": 28,
     "metadata": {},
     "output_type": "execute_result"
    }
   ],
   "source": [
    "type(s)"
   ]
  },
  {
   "cell_type": "code",
   "execution_count": 29,
   "id": "f42995e0",
   "metadata": {},
   "outputs": [],
   "source": [
    "s = {9, 4, 5, 7, 1, 2} # 정렬 기능"
   ]
  },
  {
   "cell_type": "code",
   "execution_count": 30,
   "id": "0956a83e",
   "metadata": {},
   "outputs": [
    {
     "data": {
      "text/plain": [
       "{1, 2, 4, 5, 7, 9}"
      ]
     },
     "execution_count": 30,
     "metadata": {},
     "output_type": "execute_result"
    }
   ],
   "source": [
    "s"
   ]
  },
  {
   "cell_type": "code",
   "execution_count": null,
   "id": "deef365e",
   "metadata": {},
   "outputs": [],
   "source": [
    "s = {} #중복을 없애고 오름차순으로 바꾸고 싶을 때 set에 넣었다 빼면 정리가 됨.\n"
   ]
  },
  {
   "cell_type": "code",
   "execution_count": 31,
   "id": "16f7fab0",
   "metadata": {},
   "outputs": [
    {
     "ename": "NameError",
     "evalue": "name 'l' is not defined",
     "output_type": "error",
     "traceback": [
      "\u001b[1;31m---------------------------------------------------------------------------\u001b[0m",
      "\u001b[1;31mNameError\u001b[0m                                 Traceback (most recent call last)",
      "\u001b[1;32m~\\AppData\\Local\\Temp\\ipykernel_16848\\2205173458.py\u001b[0m in \u001b[0;36m<module>\u001b[1;34m\u001b[0m\n\u001b[0;32m      1\u001b[0m \u001b[0mㅣ\u001b[0m \u001b[1;33m=\u001b[0m \u001b[1;33m[\u001b[0m\u001b[1;36m99\u001b[0m\u001b[1;33m,\u001b[0m \u001b[1;36m62\u001b[0m\u001b[1;33m,\u001b[0m \u001b[1;36m4\u001b[0m\u001b[1;33m,\u001b[0m \u001b[1;36m3\u001b[0m\u001b[1;33m,\u001b[0m \u001b[1;36m3\u001b[0m\u001b[1;33m,\u001b[0m \u001b[1;36m3\u001b[0m\u001b[1;33m,\u001b[0m \u001b[1;36m5\u001b[0m\u001b[1;33m,\u001b[0m \u001b[1;36m6\u001b[0m\u001b[1;33m,\u001b[0m \u001b[1;36m8\u001b[0m\u001b[1;33m,\u001b[0m \u001b[1;36m7\u001b[0m\u001b[1;33m,\u001b[0m \u001b[1;36m8\u001b[0m\u001b[1;33m,\u001b[0m \u001b[1;36m9\u001b[0m\u001b[1;33m]\u001b[0m\u001b[1;33m\u001b[0m\u001b[1;33m\u001b[0m\u001b[0m\n\u001b[1;32m----> 2\u001b[1;33m \u001b[0ms\u001b[0m \u001b[1;33m=\u001b[0m \u001b[1;33m{\u001b[0m\u001b[0ml\u001b[0m\u001b[1;33m}\u001b[0m\u001b[1;33m\u001b[0m\u001b[1;33m\u001b[0m\u001b[0m\n\u001b[0m",
      "\u001b[1;31mNameError\u001b[0m: name 'l' is not defined"
     ]
    }
   ],
   "source": [
    "ㅣ = [99, 62, 4, 3, 3, 3, 5, 6, 8, 7, 8, 9]\n",
    "s = {l}"
   ]
  },
  {
   "cell_type": "code",
   "execution_count": 32,
   "id": "b66534d3",
   "metadata": {},
   "outputs": [
    {
     "ename": "NameError",
     "evalue": "name 'l' is not defined",
     "output_type": "error",
     "traceback": [
      "\u001b[1;31m---------------------------------------------------------------------------\u001b[0m",
      "\u001b[1;31mNameError\u001b[0m                                 Traceback (most recent call last)",
      "\u001b[1;32m~\\AppData\\Local\\Temp\\ipykernel_16848\\3723490112.py\u001b[0m in \u001b[0;36m<module>\u001b[1;34m\u001b[0m\n\u001b[1;32m----> 1\u001b[1;33m \u001b[0ml\u001b[0m\u001b[1;33m\u001b[0m\u001b[1;33m\u001b[0m\u001b[0m\n\u001b[0m",
      "\u001b[1;31mNameError\u001b[0m: name 'l' is not defined"
     ]
    }
   ],
   "source": [
    "l"
   ]
  },
  {
   "cell_type": "code",
   "execution_count": 35,
   "id": "e54e2d9e",
   "metadata": {},
   "outputs": [],
   "source": [
    "ㅣ = list[99, 62, 4, 3, 3, 3, 5, 6, 8, 7, 8, 9]"
   ]
  },
  {
   "cell_type": "code",
   "execution_count": 34,
   "id": "33da9c18",
   "metadata": {},
   "outputs": [
    {
     "ename": "NameError",
     "evalue": "name 'l' is not defined",
     "output_type": "error",
     "traceback": [
      "\u001b[1;31m---------------------------------------------------------------------------\u001b[0m",
      "\u001b[1;31mNameError\u001b[0m                                 Traceback (most recent call last)",
      "\u001b[1;32m~\\AppData\\Local\\Temp\\ipykernel_16848\\3723490112.py\u001b[0m in \u001b[0;36m<module>\u001b[1;34m\u001b[0m\n\u001b[1;32m----> 1\u001b[1;33m \u001b[0ml\u001b[0m\u001b[1;33m\u001b[0m\u001b[1;33m\u001b[0m\u001b[0m\n\u001b[0m",
      "\u001b[1;31mNameError\u001b[0m: name 'l' is not defined"
     ]
    }
   ],
   "source": [
    "l"
   ]
  },
  {
   "cell_type": "code",
   "execution_count": 36,
   "id": "83d9b426",
   "metadata": {},
   "outputs": [
    {
     "ename": "NameError",
     "evalue": "name 'l' is not defined",
     "output_type": "error",
     "traceback": [
      "\u001b[1;31m---------------------------------------------------------------------------\u001b[0m",
      "\u001b[1;31mNameError\u001b[0m                                 Traceback (most recent call last)",
      "\u001b[1;32m~\\AppData\\Local\\Temp\\ipykernel_16848\\3723490112.py\u001b[0m in \u001b[0;36m<module>\u001b[1;34m\u001b[0m\n\u001b[1;32m----> 1\u001b[1;33m \u001b[0ml\u001b[0m\u001b[1;33m\u001b[0m\u001b[1;33m\u001b[0m\u001b[0m\n\u001b[0m",
      "\u001b[1;31mNameError\u001b[0m: name 'l' is not defined"
     ]
    }
   ],
   "source": [
    "l"
   ]
  },
  {
   "cell_type": "code",
   "execution_count": 37,
   "id": "14ae2d43",
   "metadata": {},
   "outputs": [
    {
     "ename": "NameError",
     "evalue": "name 'l' is not defined",
     "output_type": "error",
     "traceback": [
      "\u001b[1;31m---------------------------------------------------------------------------\u001b[0m",
      "\u001b[1;31mNameError\u001b[0m                                 Traceback (most recent call last)",
      "\u001b[1;32m~\\AppData\\Local\\Temp\\ipykernel_16848\\3958778477.py\u001b[0m in \u001b[0;36m<module>\u001b[1;34m\u001b[0m\n\u001b[1;32m----> 1\u001b[1;33m \u001b[0mprint\u001b[0m\u001b[1;33m(\u001b[0m\u001b[0ml\u001b[0m\u001b[1;33m)\u001b[0m\u001b[1;33m\u001b[0m\u001b[1;33m\u001b[0m\u001b[0m\n\u001b[0m",
      "\u001b[1;31mNameError\u001b[0m: name 'l' is not defined"
     ]
    }
   ],
   "source": [
    "print(l)"
   ]
  },
  {
   "cell_type": "code",
   "execution_count": 38,
   "id": "b7c7b0cd",
   "metadata": {},
   "outputs": [],
   "source": [
    "l = [99, 62, 4, 3, 3, 3, 5, 6, 8, 7, 8, 9]"
   ]
  },
  {
   "cell_type": "code",
   "execution_count": 39,
   "id": "e5c1a014",
   "metadata": {},
   "outputs": [
    {
     "ename": "NameError",
     "evalue": "name 'l' is not defined",
     "output_type": "error",
     "traceback": [
      "\u001b[1;31m---------------------------------------------------------------------------\u001b[0m",
      "\u001b[1;31mNameError\u001b[0m                                 Traceback (most recent call last)",
      "\u001b[1;32m~\\AppData\\Local\\Temp\\ipykernel_16848\\3958778477.py\u001b[0m in \u001b[0;36m<module>\u001b[1;34m\u001b[0m\n\u001b[1;32m----> 1\u001b[1;33m \u001b[0mprint\u001b[0m\u001b[1;33m(\u001b[0m\u001b[0ml\u001b[0m\u001b[1;33m)\u001b[0m\u001b[1;33m\u001b[0m\u001b[1;33m\u001b[0m\u001b[0m\n\u001b[0m",
      "\u001b[1;31mNameError\u001b[0m: name 'l' is not defined"
     ]
    }
   ],
   "source": [
    "print(l)"
   ]
  },
  {
   "cell_type": "code",
   "execution_count": 40,
   "id": "94d4ff4a",
   "metadata": {},
   "outputs": [],
   "source": [
    "l = [99, 62, 4, 3, 3, 3, 5, 6, 8, 7, 8, 9]"
   ]
  },
  {
   "cell_type": "code",
   "execution_count": 41,
   "id": "937cb0b1",
   "metadata": {},
   "outputs": [
    {
     "data": {
      "text/plain": [
       "[99, 62, 4, 3, 3, 3, 5, 6, 8, 7, 8, 9]"
      ]
     },
     "execution_count": 41,
     "metadata": {},
     "output_type": "execute_result"
    }
   ],
   "source": []
  },
  {
   "cell_type": "code",
   "execution_count": 42,
   "id": "7d838c31",
   "metadata": {},
   "outputs": [
    {
     "ename": "TypeError",
     "evalue": "unhashable type: 'list'",
     "output_type": "error",
     "traceback": [
      "\u001b[1;31m---------------------------------------------------------------------------\u001b[0m",
      "\u001b[1;31mTypeError\u001b[0m                                 Traceback (most recent call last)",
      "\u001b[1;32m~\\AppData\\Local\\Temp\\ipykernel_16848\\847196354.py\u001b[0m in \u001b[0;36m<module>\u001b[1;34m\u001b[0m\n\u001b[1;32m----> 1\u001b[1;33m \u001b[0ms\u001b[0m \u001b[1;33m=\u001b[0m \u001b[1;33m{\u001b[0m\u001b[0ml\u001b[0m\u001b[1;33m}\u001b[0m\u001b[1;33m\u001b[0m\u001b[1;33m\u001b[0m\u001b[0m\n\u001b[0m",
      "\u001b[1;31mTypeError\u001b[0m: unhashable type: 'list'"
     ]
    }
   ],
   "source": [
    "s = {l}"
   ]
  },
  {
   "cell_type": "code",
   "execution_count": 43,
   "id": "1eac9540",
   "metadata": {},
   "outputs": [
    {
     "data": {
      "text/plain": [
       "{3, 4, 5, 6, 7, 8, 9, 62, 99}"
      ]
     },
     "execution_count": 43,
     "metadata": {},
     "output_type": "execute_result"
    }
   ],
   "source": [
    "set(l)"
   ]
  },
  {
   "cell_type": "code",
   "execution_count": 44,
   "id": "d466d32c",
   "metadata": {},
   "outputs": [
    {
     "data": {
      "text/plain": [
       "[99, 62, 4, 3, 3, 3, 5, 6, 8, 7, 8, 9]"
      ]
     },
     "execution_count": 44,
     "metadata": {},
     "output_type": "execute_result"
    }
   ],
   "source": [
    "list(l)"
   ]
  },
  {
   "cell_type": "code",
   "execution_count": 50,
   "id": "9c008cdc",
   "metadata": {},
   "outputs": [
    {
     "data": {
      "text/plain": [
       "[3, 99, 4, 5, 6, 8, 7, 9, 62]"
      ]
     },
     "execution_count": 50,
     "metadata": {},
     "output_type": "execute_result"
    }
   ],
   "source": [
    "list(set(l))"
   ]
  },
  {
   "cell_type": "code",
   "execution_count": 51,
   "id": "656f5eec",
   "metadata": {},
   "outputs": [],
   "source": [
    "s = set(l)"
   ]
  },
  {
   "cell_type": "code",
   "execution_count": 52,
   "id": "fed97d98",
   "metadata": {},
   "outputs": [
    {
     "data": {
      "text/plain": [
       "{3, 4, 5, 6, 7, 8, 9, 62, 99}"
      ]
     },
     "execution_count": 52,
     "metadata": {},
     "output_type": "execute_result"
    }
   ],
   "source": [
    "s"
   ]
  },
  {
   "cell_type": "code",
   "execution_count": 53,
   "id": "2c3c2414",
   "metadata": {},
   "outputs": [],
   "source": [
    "x = list(s)"
   ]
  },
  {
   "cell_type": "code",
   "execution_count": 54,
   "id": "5c18fa5a",
   "metadata": {},
   "outputs": [
    {
     "data": {
      "text/plain": [
       "[3, 99, 4, 5, 6, 8, 7, 9, 62]"
      ]
     },
     "execution_count": 54,
     "metadata": {},
     "output_type": "execute_result"
    }
   ],
   "source": [
    "x"
   ]
  },
  {
   "cell_type": "code",
   "execution_count": 55,
   "id": "84dc9f9e",
   "metadata": {},
   "outputs": [],
   "source": [
    "x.sort() #sort를 이용해서 수정하기, sorted(본체를 변형하지 않는 함수)"
   ]
  },
  {
   "cell_type": "code",
   "execution_count": 56,
   "id": "35b2220b",
   "metadata": {},
   "outputs": [
    {
     "data": {
      "text/plain": [
       "[3, 4, 5, 6, 7, 8, 9, 62, 99]"
      ]
     },
     "execution_count": 56,
     "metadata": {},
     "output_type": "execute_result"
    }
   ],
   "source": [
    "x"
   ]
  },
  {
   "cell_type": "code",
   "execution_count": 57,
   "id": "6f801b34",
   "metadata": {},
   "outputs": [],
   "source": [
    "x.sort(reverse=True) # 내림차순 변경"
   ]
  },
  {
   "cell_type": "code",
   "execution_count": 58,
   "id": "dcd2ede7",
   "metadata": {},
   "outputs": [
    {
     "data": {
      "text/plain": [
       "[99, 62, 9, 8, 7, 6, 5, 4, 3]"
      ]
     },
     "execution_count": 58,
     "metadata": {},
     "output_type": "execute_result"
    }
   ],
   "source": [
    "x"
   ]
  },
  {
   "cell_type": "code",
   "execution_count": 59,
   "id": "9a677918",
   "metadata": {},
   "outputs": [],
   "source": [
    "x.reverse() # 반대로, reversed도 있음(본체를 변형하지 않음)"
   ]
  },
  {
   "cell_type": "code",
   "execution_count": 60,
   "id": "d17a7abf",
   "metadata": {},
   "outputs": [
    {
     "data": {
      "text/plain": [
       "[3, 4, 5, 6, 7, 8, 9, 62, 99]"
      ]
     },
     "execution_count": 60,
     "metadata": {},
     "output_type": "execute_result"
    }
   ],
   "source": [
    "x "
   ]
  },
  {
   "cell_type": "code",
   "execution_count": 61,
   "id": "93ca35b4",
   "metadata": {},
   "outputs": [
    {
     "data": {
      "text/plain": [
       "bool"
      ]
     },
     "execution_count": 61,
     "metadata": {},
     "output_type": "execute_result"
    }
   ],
   "source": [
    "type(True) #Bool 자료형"
   ]
  },
  {
   "cell_type": "code",
   "execution_count": 62,
   "id": "fda18b92",
   "metadata": {},
   "outputs": [
    {
     "data": {
      "text/plain": [
       "bool"
      ]
     },
     "execution_count": 62,
     "metadata": {},
     "output_type": "execute_result"
    }
   ],
   "source": [
    "type(False)"
   ]
  },
  {
   "cell_type": "code",
   "execution_count": 63,
   "id": "1d49b2d6",
   "metadata": {},
   "outputs": [
    {
     "ename": "NameError",
     "evalue": "name 'TRUE' is not defined",
     "output_type": "error",
     "traceback": [
      "\u001b[1;31m---------------------------------------------------------------------------\u001b[0m",
      "\u001b[1;31mNameError\u001b[0m                                 Traceback (most recent call last)",
      "\u001b[1;32m~\\AppData\\Local\\Temp\\ipykernel_16848\\2034992533.py\u001b[0m in \u001b[0;36m<module>\u001b[1;34m\u001b[0m\n\u001b[1;32m----> 1\u001b[1;33m \u001b[0mtype\u001b[0m\u001b[1;33m(\u001b[0m\u001b[0mTRUE\u001b[0m\u001b[1;33m)\u001b[0m\u001b[1;33m\u001b[0m\u001b[1;33m\u001b[0m\u001b[0m\n\u001b[0m",
      "\u001b[1;31mNameError\u001b[0m: name 'TRUE' is not defined"
     ]
    }
   ],
   "source": [
    "type(TRUE) #TRUE랑 true 같음"
   ]
  },
  {
   "cell_type": "code",
   "execution_count": 64,
   "id": "0d68eb93",
   "metadata": {},
   "outputs": [
    {
     "data": {
      "text/plain": [
       "False"
      ]
     },
     "execution_count": 64,
     "metadata": {},
     "output_type": "execute_result"
    }
   ],
   "source": [
    "True != True"
   ]
  },
  {
   "cell_type": "code",
   "execution_count": 66,
   "id": "654aa798",
   "metadata": {},
   "outputs": [
    {
     "data": {
      "text/plain": [
       "True"
      ]
     },
     "execution_count": 66,
     "metadata": {},
     "output_type": "execute_result"
    }
   ],
   "source": [
    "False == False"
   ]
  },
  {
   "cell_type": "code",
   "execution_count": 67,
   "id": "4c6b4fc7",
   "metadata": {},
   "outputs": [
    {
     "data": {
      "text/plain": [
       "True"
      ]
     },
     "execution_count": 67,
     "metadata": {},
     "output_type": "execute_result"
    }
   ],
   "source": [
    "True > False"
   ]
  },
  {
   "cell_type": "code",
   "execution_count": 68,
   "id": "ab647fb5",
   "metadata": {},
   "outputs": [
    {
     "data": {
      "text/plain": [
       "False"
      ]
     },
     "execution_count": 68,
     "metadata": {},
     "output_type": "execute_result"
    }
   ],
   "source": [
    "True < False"
   ]
  },
  {
   "cell_type": "code",
   "execution_count": 69,
   "id": "8a45ccf9",
   "metadata": {},
   "outputs": [
    {
     "data": {
      "text/plain": [
       "True"
      ]
     },
     "execution_count": 69,
     "metadata": {},
     "output_type": "execute_result"
    }
   ],
   "source": [
    "True == 1"
   ]
  },
  {
   "cell_type": "code",
   "execution_count": 70,
   "id": "3f2ae224",
   "metadata": {},
   "outputs": [
    {
     "data": {
      "text/plain": [
       "True"
      ]
     },
     "execution_count": 70,
     "metadata": {},
     "output_type": "execute_result"
    }
   ],
   "source": [
    "False == 0"
   ]
  },
  {
   "cell_type": "code",
   "execution_count": 71,
   "id": "2f1e7468",
   "metadata": {},
   "outputs": [
    {
     "data": {
      "text/plain": [
       "False"
      ]
     },
     "execution_count": 71,
     "metadata": {},
     "output_type": "execute_result"
    }
   ],
   "source": [
    "True == 2"
   ]
  },
  {
   "cell_type": "code",
   "execution_count": 72,
   "id": "b3200662",
   "metadata": {},
   "outputs": [
    {
     "name": "stdout",
     "output_type": "stream",
     "text": [
      "1\n"
     ]
    }
   ],
   "source": [
    "if 2:\n",
    "    print(1) #False가 아니기 때문에 실행"
   ]
  },
  {
   "cell_type": "code",
   "execution_count": 73,
   "id": "eb2f2835",
   "metadata": {},
   "outputs": [
    {
     "name": "stdout",
     "output_type": "stream",
     "text": [
      "1\n"
     ]
    }
   ],
   "source": [
    "if True:\n",
    "    print(1) # True이기 때문에 실행"
   ]
  },
  {
   "cell_type": "code",
   "execution_count": 74,
   "id": "bff5fac5",
   "metadata": {},
   "outputs": [
    {
     "data": {
      "text/plain": [
       "True"
      ]
     },
     "execution_count": 74,
     "metadata": {},
     "output_type": "execute_result"
    }
   ],
   "source": [
    "0 == 0.0"
   ]
  },
  {
   "cell_type": "code",
   "execution_count": 75,
   "id": "a832c5f9",
   "metadata": {},
   "outputs": [
    {
     "data": {
      "text/plain": [
       "True"
      ]
     },
     "execution_count": 75,
     "metadata": {},
     "output_type": "execute_result"
    }
   ],
   "source": [
    "False == 0.0"
   ]
  },
  {
   "cell_type": "code",
   "execution_count": 76,
   "id": "3f489049",
   "metadata": {},
   "outputs": [
    {
     "data": {
      "text/plain": [
       "False"
      ]
     },
     "execution_count": 76,
     "metadata": {},
     "output_type": "execute_result"
    }
   ],
   "source": [
    "[] == False #리스트라는 자료가 들어있기 때문에 false가 아님, 관련 자료형도 마찬가지\n",
    "#False는 0, 0.0 단 두가지로만 대체할 수 있다."
   ]
  },
  {
   "cell_type": "code",
   "execution_count": 79,
   "id": "b59cef6f",
   "metadata": {},
   "outputs": [
    {
     "name": "stdout",
     "output_type": "stream",
     "text": [
      "hello\n",
      "hellohello\n",
      "hellohello\n"
     ]
    }
   ],
   "source": [
    "a = 'hello'\n",
    "print(a)\n",
    "print(a*2)\n",
    "print(a+a)\n",
    "#정수형: 모든 연산 가능\n",
    "#실수형: 모든 연산 가능\n",
    "#문자형: 덧셈, 곱셈 연산 가능"
   ]
  },
  {
   "cell_type": "code",
   "execution_count": 92,
   "id": "31d68b46",
   "metadata": {},
   "outputs": [
    {
     "name": "stdout",
     "output_type": "stream",
     "text": [
      "2\n",
      "9\n",
      "4\n",
      "합:  15 차:  -11 곱:  72\n",
      "[2, 9, 4]\n",
      "[9, 4, 2]\n",
      "합:  15 차:  3 곱:  72\n"
     ]
    }
   ],
   "source": [
    "#실습) 변수를 이용한 연산\n",
    "#변수 3개를 입력받은 뒤, 해당 세 숫자의 합과 차, 곱을 출력하는 프로그램 만들기\n",
    "\n",
    "a = int(input())\n",
    "b = int(input())\n",
    "c = int(input())\n",
    "\n",
    "print(\"합: \",a+b+c, \"차: \", a-b-c, \"곱: \", a*b*c)\n",
    "\n",
    "list = [a, b, c]\n",
    "print(list)\n",
    "list.sort(reverse=True)\n",
    "print(list)\n",
    "\n",
    "print(\"합: \",a+b+c, \"차: \", list[0]-list[1]-list[2], \"곱: \", a*b*c)"
   ]
  },
  {
   "cell_type": "markdown",
   "id": "69b38117",
   "metadata": {},
   "source": [
    "실습) if문을 이용한 코드 만들기\n",
    "숫자 하나를 입력받은 뒤, 그 숫자에 50, 100, 150을 뺀 숫자를 각각 출력하기\n",
    "이 때, 숫자 출력마다 줄바꿈이 되어야 한다.\n",
    "\n",
    "x = int(input())\n",
    "\n",
    "if  x > 50:"
   ]
  },
  {
   "cell_type": "code",
   "execution_count": 96,
   "id": "04cd441e",
   "metadata": {},
   "outputs": [
    {
     "name": "stdout",
     "output_type": "stream",
     "text": [
      "567\n",
      "517\n",
      "467\n",
      "417\n"
     ]
    }
   ],
   "source": [
    "#실습) if문을 이용한 코드 만들기\n",
    "#숫자 하나를 입력받은 뒤, 그 숫자에 50, 100, 150을 뺀 숫자를 각각 출력하기\n",
    "#이 때, 숫자 출력마다 줄바꿈이 되어야 한다.\n",
    "\n",
    "x = int(input())\n",
    "\n",
    "if x >= 150:\n",
    "    print(x-50)\n",
    "    print(x-100)\n",
    "    print(x-150)\n",
    "else:\n",
    "    print(x)"
   ]
  },
  {
   "cell_type": "code",
   "execution_count": 98,
   "id": "f012e1e7",
   "metadata": {},
   "outputs": [
    {
     "name": "stdout",
     "output_type": "stream",
     "text": [
      "-3\n",
      "-53\n",
      "-103\n",
      "-153\n"
     ]
    }
   ],
   "source": [
    "#실습) if문을 이용한 코드 만들기\n",
    "#숫자 하나를 입력받은 뒤, 그 숫자에 50, 100, 150을 뺀 숫자를 각각 출력하기\n",
    "#이 때, 숫자 출력마다 줄바꿈이 되어야 한다.\n",
    "\n",
    "x = int(input())\n",
    "\n",
    "if -10 < x < 10:\n",
    "    print(x-50)\n",
    "    print(x-100)\n",
    "    print(x-150)"
   ]
  },
  {
   "cell_type": "code",
   "execution_count": 100,
   "id": "c1158f57",
   "metadata": {},
   "outputs": [
    {
     "name": "stdout",
     "output_type": "stream",
     "text": [
      "125\n",
      "양수입니다.\n",
      "100 초과입니다.\n"
     ]
    }
   ],
   "source": [
    "#실습) 숫자를 입력받고, 그 숫자의 조건에 따라 다른 안내문을 출력하세요.\n",
    "# 1. 숫자가 양수인지\n",
    "# 2. 숫자가 음수인지\n",
    "# 3. 숫자가 100초과인지\n",
    "\n",
    "x = int(input())\n",
    "\n",
    "if x > 0:\n",
    "    print(\"양수입니다.\")\n",
    "if x < 0:\n",
    "    print(\"음수입니다.\")\n",
    "if x > 100:\n",
    "    print(\"100 초과입니다.\")"
   ]
  },
  {
   "cell_type": "code",
   "execution_count": 109,
   "id": "ba753eb6",
   "metadata": {},
   "outputs": [
    {
     "name": "stdout",
     "output_type": "stream",
     "text": [
      "16\n",
      "3\n",
      "몫 5\n"
     ]
    }
   ],
   "source": [
    "#실습) if - elif -else 구문을 모두 사용한 논리를 만들어보기\n",
    "#나눗셈 프로그램 만들기\n",
    "# 숫자 두개 (x, y)를 받습니다\n",
    "# x, y가 나누어 떨어질 경우 나누어 떨어진다고 표현합니다.\n",
    "# 나누어 떨어지지 않지만 몫이 1 이상인 경우 몫을 출력합니다.\n",
    "# 몫이 1 이상이 아닌 경우, 나머지를 출력합니다.\n",
    "\n",
    "x = int(input())\n",
    "y = int(input())\n",
    "\n",
    "if x % y == 0:\n",
    "    print(\"나누어 떨어집니다.\")\n",
    "elif x // y >= 1:\n",
    "    print(\"몫\", x // y)\n",
    "else:\n",
    "    print(\"나머지\", x % y)"
   ]
  },
  {
   "cell_type": "code",
   "execution_count": 110,
   "id": "68168aee",
   "metadata": {},
   "outputs": [
    {
     "name": "stdout",
     "output_type": "stream",
     "text": [
      "123\n",
      "문자열입니다\n"
     ]
    }
   ],
   "source": [
    "x = input()\n",
    "if type(x) == str:\n",
    "    print('문자열입니다')"
   ]
  },
  {
   "cell_type": "code",
   "execution_count": 111,
   "id": "83adbde9",
   "metadata": {},
   "outputs": [
    {
     "name": "stdout",
     "output_type": "stream",
     "text": [
      "123\n"
     ]
    }
   ],
   "source": [
    "x =123\n",
    "if type (x) == str:\n",
    "    print('문자열입니다')\n",
    "else:\n",
    "    x = str(x)\n",
    "print(x)"
   ]
  },
  {
   "cell_type": "code",
   "execution_count": 112,
   "id": "bb185089",
   "metadata": {},
   "outputs": [
    {
     "data": {
      "text/plain": [
       "'123'"
      ]
     },
     "execution_count": 112,
     "metadata": {},
     "output_type": "execute_result"
    }
   ],
   "source": [
    "x"
   ]
  },
  {
   "cell_type": "code",
   "execution_count": 113,
   "id": "54de4770",
   "metadata": {},
   "outputs": [],
   "source": [
    "x = 123"
   ]
  },
  {
   "cell_type": "code",
   "execution_count": 114,
   "id": "fd372099",
   "metadata": {},
   "outputs": [
    {
     "data": {
      "text/plain": [
       "123"
      ]
     },
     "execution_count": 114,
     "metadata": {},
     "output_type": "execute_result"
    }
   ],
   "source": [
    "x"
   ]
  },
  {
   "cell_type": "code",
   "execution_count": null,
   "id": "4e616c5a",
   "metadata": {},
   "outputs": [],
   "source": []
  },
  {
   "cell_type": "code",
   "execution_count": 115,
   "id": "92804e72",
   "metadata": {},
   "outputs": [
    {
     "data": {
      "text/plain": [
       "False"
      ]
     },
     "execution_count": 115,
     "metadata": {},
     "output_type": "execute_result"
    }
   ],
   "source": [
    "2 > 3"
   ]
  },
  {
   "cell_type": "code",
   "execution_count": 119,
   "id": "5576aaf9",
   "metadata": {},
   "outputs": [],
   "source": [
    "board = 'abcdefghijklmnopqrstuvwxyz'"
   ]
  },
  {
   "cell_type": "code",
   "execution_count": 120,
   "id": "90f0919b",
   "metadata": {},
   "outputs": [
    {
     "data": {
      "text/plain": [
       "'hi'"
      ]
     },
     "execution_count": 120,
     "metadata": {},
     "output_type": "execute_result"
    }
   ],
   "source": [
    "board[7] + board[8]"
   ]
  },
  {
   "cell_type": "code",
   "execution_count": 122,
   "id": "81c52d99",
   "metadata": {},
   "outputs": [
    {
     "name": "stdout",
     "output_type": "stream",
     "text": [
      "abcdefg\n",
      "ijklmnopqrstuvwxyz\n"
     ]
    }
   ],
   "source": [
    "#실습: hi를 기준으로 board의 앞뒤를 나눠서 출력해보자\n",
    "\n",
    "print(board[:7])\n",
    "print(board[8:])"
   ]
  },
  {
   "cell_type": "code",
   "execution_count": 123,
   "id": "986db747",
   "metadata": {},
   "outputs": [
    {
     "data": {
      "text/plain": [
       "['abcdefg', 'jklmnopqrstuvwxyz']"
      ]
     },
     "execution_count": 123,
     "metadata": {},
     "output_type": "execute_result"
    }
   ],
   "source": [
    "board.split('hi') # hi를 기준으로 나눠주는 split"
   ]
  },
  {
   "cell_type": "code",
   "execution_count": 124,
   "id": "f81bb6c7",
   "metadata": {},
   "outputs": [
    {
     "name": "stdout",
     "output_type": "stream",
     "text": [
      "abcdefg jklmnopqrstuvwxyz\n"
     ]
    }
   ],
   "source": [
    "print(board.split('hi')[0], board.split('hi')[1])"
   ]
  },
  {
   "cell_type": "code",
   "execution_count": 126,
   "id": "0b76d815",
   "metadata": {},
   "outputs": [
    {
     "data": {
      "text/plain": [
       "'abcdefghAjklmnopqrstuvwxyz'"
      ]
     },
     "execution_count": 126,
     "metadata": {},
     "output_type": "execute_result"
    }
   ],
   "source": [
    "#실습: split, join  사용해보기\n",
    "#board = 'abcdefghijklmnopqrstuvwxyz' 문자열을 이용한다.\n",
    "#board에 있는 i 글자를  A 글자로 바꾼다.\n",
    "\n",
    "board.split('i')[0] + 'A' + board.split('i')[1]"
   ]
  },
  {
   "cell_type": "code",
   "execution_count": 129,
   "id": "d13d0f23",
   "metadata": {},
   "outputs": [
    {
     "data": {
      "text/plain": [
       "'abcdefghAjklmnopqrstuvwxyz'"
      ]
     },
     "execution_count": 129,
     "metadata": {},
     "output_type": "execute_result"
    }
   ],
   "source": [
    "board = 'abcdefghijklmnopqrstuvwxyz'\n",
    "'A'.join(board.split('i'))"
   ]
  },
  {
   "cell_type": "code",
   "execution_count": 130,
   "id": "a0bab420",
   "metadata": {},
   "outputs": [
    {
     "data": {
      "text/plain": [
       "'AAAAAAAdfasdfsdsdgagAAAAAAAAgsdfasdfAAA'"
      ]
     },
     "execution_count": 130,
     "metadata": {},
     "output_type": "execute_result"
    }
   ],
   "source": [
    "'iiiiiiidfasdfsdsdgagiiiiiiiigsdfasdfiii'.replace('i', 'A')"
   ]
  },
  {
   "cell_type": "code",
   "execution_count": 131,
   "id": "3346a301",
   "metadata": {},
   "outputs": [
    {
     "data": {
      "text/plain": [
       "' aii oou uee123'"
      ]
     },
     "execution_count": 131,
     "metadata": {},
     "output_type": "execute_result"
    }
   ],
   "source": [
    "' aii oou uee\\t'.strip('\\t') + '123'"
   ]
  },
  {
   "cell_type": "code",
   "execution_count": 134,
   "id": "1dd0a7de",
   "metadata": {},
   "outputs": [
    {
     "name": "stdout",
     "output_type": "stream",
     "text": [
      "aii oou uee\t124\n"
     ]
    }
   ],
   "source": [
    "print('aii oou uee\\t124')"
   ]
  },
  {
   "cell_type": "code",
   "execution_count": 146,
   "id": "e2a55982",
   "metadata": {},
   "outputs": [
    {
     "data": {
      "text/plain": [
       "'안녕하세요,\\t파이썬 2차시 수업 중입니다'"
      ]
     },
     "execution_count": 146,
     "metadata": {},
     "output_type": "execute_result"
    }
   ],
   "source": [
    "#실습) 문자열 처리하기\n",
    "msg = '안녕하세요,\\t파이썬 2차시 수업 중입니다!\\n'\n",
    "msg.strip('!\\n')"
   ]
  },
  {
   "cell_type": "code",
   "execution_count": 151,
   "id": "e4133cf7",
   "metadata": {},
   "outputs": [],
   "source": [
    "msg1 = msg.strip('!\\n')"
   ]
  },
  {
   "cell_type": "code",
   "execution_count": 152,
   "id": "8a167fa0",
   "metadata": {},
   "outputs": [
    {
     "data": {
      "text/plain": [
       "'안녕하세요,\\t파이썬 2차시 수업 중입니다'"
      ]
     },
     "execution_count": 152,
     "metadata": {},
     "output_type": "execute_result"
    }
   ],
   "source": [
    "msg1"
   ]
  },
  {
   "cell_type": "code",
   "execution_count": 153,
   "id": "ef202d3b",
   "metadata": {},
   "outputs": [
    {
     "data": {
      "text/plain": [
       "['안녕하세요,', '파이썬 2차시 수업 중입니다']"
      ]
     },
     "execution_count": 153,
     "metadata": {},
     "output_type": "execute_result"
    }
   ],
   "source": [
    "msg1.split('\\t')"
   ]
  },
  {
   "cell_type": "code",
   "execution_count": 154,
   "id": "e27ad23d",
   "metadata": {},
   "outputs": [],
   "source": [
    "msg2 = msg1.split('\\t')[0]"
   ]
  },
  {
   "cell_type": "code",
   "execution_count": 155,
   "id": "8b861bdd",
   "metadata": {},
   "outputs": [
    {
     "data": {
      "text/plain": [
       "'안녕하세요,'"
      ]
     },
     "execution_count": 155,
     "metadata": {},
     "output_type": "execute_result"
    }
   ],
   "source": [
    "msg2"
   ]
  },
  {
   "cell_type": "code",
   "execution_count": 157,
   "id": "8739743f",
   "metadata": {},
   "outputs": [
    {
     "data": {
      "text/plain": [
       "'안녕하세요,'"
      ]
     },
     "execution_count": 157,
     "metadata": {},
     "output_type": "execute_result"
    }
   ],
   "source": [
    "msg2.strip(' ')"
   ]
  },
  {
   "cell_type": "code",
   "execution_count": 158,
   "id": "fb04498a",
   "metadata": {},
   "outputs": [
    {
     "data": {
      "text/plain": [
       "'안녕하세요'"
      ]
     },
     "execution_count": 158,
     "metadata": {},
     "output_type": "execute_result"
    }
   ],
   "source": [
    "msg2.strip(', ')"
   ]
  },
  {
   "cell_type": "code",
   "execution_count": 173,
   "id": "89b29a5c",
   "metadata": {},
   "outputs": [],
   "source": [
    "msg3= msg1.split('\\t')[1]"
   ]
  },
  {
   "cell_type": "code",
   "execution_count": 174,
   "id": "8e3d9e06",
   "metadata": {},
   "outputs": [
    {
     "data": {
      "text/plain": [
       "'파이썬 2차시 수업 중입니다'"
      ]
     },
     "execution_count": 174,
     "metadata": {},
     "output_type": "execute_result"
    }
   ],
   "source": [
    "msg3"
   ]
  },
  {
   "cell_type": "code",
   "execution_count": 175,
   "id": "0c2b3b5f",
   "metadata": {},
   "outputs": [
    {
     "data": {
      "text/plain": [
       "'파이썬2차시수업중입니다'"
      ]
     },
     "execution_count": 175,
     "metadata": {},
     "output_type": "execute_result"
    }
   ],
   "source": [
    "msg3.replace(\" \", \"\")"
   ]
  },
  {
   "cell_type": "code",
   "execution_count": 176,
   "id": "5109baf4",
   "metadata": {},
   "outputs": [
    {
     "data": {
      "text/plain": [
       "'안녕하세요파이썬2차시수업중입니다'"
      ]
     },
     "execution_count": 176,
     "metadata": {},
     "output_type": "execute_result"
    }
   ],
   "source": [
    "msg2.strip(', ') + msg3.replace(\" \", \"\")"
   ]
  },
  {
   "cell_type": "code",
   "execution_count": null,
   "id": "bcdfcfcd",
   "metadata": {},
   "outputs": [],
   "source": []
  }
 ],
 "metadata": {
  "kernelspec": {
   "display_name": "Python 3 (ipykernel)",
   "language": "python",
   "name": "python3"
  },
  "language_info": {
   "codemirror_mode": {
    "name": "ipython",
    "version": 3
   },
   "file_extension": ".py",
   "mimetype": "text/x-python",
   "name": "python",
   "nbconvert_exporter": "python",
   "pygments_lexer": "ipython3",
   "version": "3.9.13"
  }
 },
 "nbformat": 4,
 "nbformat_minor": 5
}

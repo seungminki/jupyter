{
 "cells": [
  {
   "cell_type": "code",
   "execution_count": 1,
   "id": "a48d34fc",
   "metadata": {},
   "outputs": [
    {
     "name": "stdout",
     "output_type": "stream",
     "text": [
      "12\n",
      "14\n",
      "4.3\n",
      "7.8\n",
      "하하\n",
      "하하하하\n",
      "[12, 4.3, '하하']\n",
      "(12, 4.3, '하하')\n",
      "02-123-4567\n"
     ]
    },
    {
     "data": {
      "text/plain": [
       "True"
      ]
     },
     "execution_count": 1,
     "metadata": {},
     "output_type": "execute_result"
    }
   ],
   "source": [
    "#과제) 각 자료형에 따라 연산 예제를 만들어보자\n",
    "#오늘 배운 모든 자료형을 이용할 것\n",
    "#자료형마다 가능하면 다른 연산을 이용할 것\n",
    "#데스트 후, 동작하지 않는 코드는 동작하지 않는 이유를 생각해보자\n",
    "\n",
    "#자료형 - 정수 =  int\n",
    "#실수 = float\n",
    "#문자열 = str\n",
    "#리스트 = []\n",
    "#튜플 = ()\n",
    "#딕셔너리 = {}\n",
    "#부울(불) 자료형\n",
    "\n",
    "a = int(input()) # 자료형\n",
    "print(a+2)\n",
    "\n",
    "b = float(input()) # 실수\n",
    "print(b+3.5)\n",
    "\n",
    "c = input() # 문자열\n",
    "print(c*2)\n",
    "\n",
    "d = [a, b, c] # 리스트\n",
    "print(d)\n",
    "\n",
    "e = (a, b, c) # 튜플\n",
    "print(e)\n",
    "\n",
    "f = {'home': '02-123-4567', 'office': '765-432-01'} # 딕셔너리\n",
    "print(f['home'])\n",
    "\n",
    "a > b"
   ]
  },
  {
   "cell_type": "code",
   "execution_count": null,
   "id": "07aacd10",
   "metadata": {},
   "outputs": [],
   "source": []
  }
 ],
 "metadata": {
  "kernelspec": {
   "display_name": "Python 3 (ipykernel)",
   "language": "python",
   "name": "python3"
  },
  "language_info": {
   "codemirror_mode": {
    "name": "ipython",
    "version": 3
   },
   "file_extension": ".py",
   "mimetype": "text/x-python",
   "name": "python",
   "nbconvert_exporter": "python",
   "pygments_lexer": "ipython3",
   "version": "3.9.13"
  }
 },
 "nbformat": 4,
 "nbformat_minor": 5
}

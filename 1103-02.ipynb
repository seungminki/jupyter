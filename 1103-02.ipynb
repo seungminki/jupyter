{
 "cells": [
  {
   "cell_type": "code",
   "execution_count": 1,
   "id": "cbdb0229",
   "metadata": {},
   "outputs": [
    {
     "name": "stdout",
     "output_type": "stream",
     "text": [
      "hello,world\n"
     ]
    }
   ],
   "source": [
    "print(','.join(['hello', 'world']))"
   ]
  },
  {
   "cell_type": "code",
   "execution_count": 2,
   "id": "d178219e",
   "metadata": {},
   "outputs": [
    {
     "data": {
      "text/plain": [
       "'34612안녕하세요98732'"
      ]
     },
     "execution_count": 2,
     "metadata": {},
     "output_type": "execute_result"
    }
   ],
   "source": [
    "#'안녕하세요'를 기준으로 나뉘어진 10자리 숫자를 만들어보자\n",
    "'안녕하세요'.join(['34612', '98732'])"
   ]
  },
  {
   "cell_type": "markdown",
   "id": "ad996f17",
   "metadata": {},
   "source": [
    "## 마크다운\n",
    "마크다운은 기호를 이용해서 글 양식을 표현하는 언어입니다.\n",
    "___\n",
    "* 내용입력\n",
    "1.\n",
    "2.\n",
    "3.\n",
    "4. 숫자 자동변경 기능\n"
   ]
  },
  {
   "cell_type": "code",
   "execution_count": 4,
   "id": "62e16976",
   "metadata": {},
   "outputs": [
    {
     "data": {
      "text/plain": [
       "'안,,,녕,,,하,,,세,,,요'"
      ]
     },
     "execution_count": 4,
     "metadata": {},
     "output_type": "execute_result"
    }
   ],
   "source": [
    "#split\n",
    "#strip\n",
    "#strip를 이용해서 좌우의 안녕하세요 문자를 삭제하려 시도해보기\n",
    "',,,안,,,녕,,,하,,,세,,,요,,,'.strip(',')"
   ]
  },
  {
   "cell_type": "code",
   "execution_count": 6,
   "id": "ebe9d458",
   "metadata": {},
   "outputs": [
    {
     "data": {
      "text/plain": [
       "'녕하세요'"
      ]
     },
     "execution_count": 6,
     "metadata": {},
     "output_type": "execute_result"
    }
   ],
   "source": [
    "'안녕하세요'.strip('안')"
   ]
  },
  {
   "cell_type": "code",
   "execution_count": 22,
   "id": "7ab97439",
   "metadata": {},
   "outputs": [
    {
     "name": "stdout",
     "output_type": "stream",
     "text": [
      "* * * * *\n",
      "    * * *\n"
     ]
    }
   ],
   "source": [
    "print('* * * * *\\n    * * *')"
   ]
  },
  {
   "cell_type": "code",
   "execution_count": 20,
   "id": "e03a8313",
   "metadata": {},
   "outputs": [
    {
     "name": "stdout",
     "output_type": "stream",
     "text": [
      "* * * * *\n",
      "* * * "
     ]
    }
   ],
   "source": [
    "print('*', end= ' ')\n",
    "print('*', end= ' ')\n",
    "print('*', end= ' ')\n",
    "print('*', end= ' ')\n",
    "print('*')\n",
    "print('*', end= ' ')\n",
    "print('*', end= ' ')\n",
    "print('*', end= ' ')"
   ]
  },
  {
   "cell_type": "code",
   "execution_count": 23,
   "id": "acf171df",
   "metadata": {},
   "outputs": [
    {
     "name": "stdout",
     "output_type": "stream",
     "text": [
      "hello\n",
      "hello\n",
      "hello\n",
      "hello\n",
      "hello\n",
      "hello\n",
      "hello\n",
      "hello\n",
      "hello\n",
      "hello\n"
     ]
    }
   ],
   "source": [
    "for i in range(0, 10):\n",
    "    print('hello')"
   ]
  },
  {
   "cell_type": "code",
   "execution_count": 33,
   "id": "23648be6",
   "metadata": {},
   "outputs": [
    {
     "name": "stdout",
     "output_type": "stream",
     "text": [
      "3\n",
      "*\n",
      "**\n",
      "***\n"
     ]
    }
   ],
   "source": [
    "x = int(input())\n",
    "for i in range(1, x+1):\n",
    "    for j in range(i):\n",
    "        print('*', end=\"\")\n",
    "    print()"
   ]
  },
  {
   "cell_type": "code",
   "execution_count": 34,
   "id": "f9ee7345",
   "metadata": {},
   "outputs": [
    {
     "name": "stdout",
     "output_type": "stream",
     "text": [
      "15\n",
      "*\n",
      "***\n",
      "*****\n",
      "*******\n",
      "*********\n",
      "***********\n",
      "*************\n",
      "***************\n"
     ]
    }
   ],
   "source": [
    "x = int(input())\n",
    "for i in range(1, x+1, 2):\n",
    "    for j in range(i):\n",
    "        print('*', end=\"\")\n",
    "    print()"
   ]
  },
  {
   "cell_type": "code",
   "execution_count": 36,
   "id": "a2a660db",
   "metadata": {},
   "outputs": [
    {
     "name": "stdout",
     "output_type": "stream",
     "text": [
      "4\n",
      "****\n",
      "****\n",
      "****\n",
      "****\n"
     ]
    }
   ],
   "source": [
    "x = int(input())\n",
    "for i in range(1, x+1):\n",
    "    for j in range(x+1, 1, -1):\n",
    "        print('*', end=\"\")\n",
    "    print()"
   ]
  },
  {
   "cell_type": "code",
   "execution_count": 37,
   "id": "a9d52349",
   "metadata": {},
   "outputs": [
    {
     "name": "stdout",
     "output_type": "stream",
     "text": [
      "4\n",
      "****\n",
      "***\n",
      "**\n",
      "*\n"
     ]
    }
   ],
   "source": [
    "x = int(input())\n",
    "for i in range(1, x+1):\n",
    "    for j in range(x+1-i):\n",
    "        print('*', end=\"\")\n",
    "    print()"
   ]
  },
  {
   "cell_type": "code",
   "execution_count": 38,
   "id": "6daaaf06",
   "metadata": {},
   "outputs": [
    {
     "name": "stdout",
     "output_type": "stream",
     "text": [
      "6\n",
      "5\n",
      "4\n",
      "3\n",
      "2\n",
      "1\n"
     ]
    }
   ],
   "source": [
    "for i in [6, 5, 4, 3, 2, 1]:\n",
    "    print(i)"
   ]
  },
  {
   "cell_type": "code",
   "execution_count": 39,
   "id": "29cc2b0e",
   "metadata": {},
   "outputs": [
    {
     "name": "stdout",
     "output_type": "stream",
     "text": [
      "h\n",
      "e\n",
      "l\n",
      "l\n",
      "o\n"
     ]
    }
   ],
   "source": [
    "for i in 'hello':\n",
    "    print(i)"
   ]
  },
  {
   "cell_type": "code",
   "execution_count": 40,
   "id": "68513442",
   "metadata": {},
   "outputs": [
    {
     "name": "stdout",
     "output_type": "stream",
     "text": [
      "8\n",
      "9\n",
      "10\n",
      "11\n",
      "12\n",
      "13\n",
      "14\n",
      "15\n",
      "16\n",
      "17\n"
     ]
    }
   ],
   "source": [
    "for i in range(0, 10):\n",
    "    print(i+8)"
   ]
  },
  {
   "cell_type": "code",
   "execution_count": 46,
   "id": "d0172634",
   "metadata": {},
   "outputs": [
    {
     "name": "stdout",
     "output_type": "stream",
     "text": [
      "나누는 수:  1 결과:  30\n",
      "나누는 수:  2 결과:  15\n",
      "나누는 수:  3 결과:  10\n",
      "나누는 수:  4 결과:  7\n",
      "나누는 수:  5 결과:  6\n",
      "나누는 수:  6 결과:  5\n",
      "나누는 수:  7 결과:  4\n",
      "나누는 수:  8 결과:  3\n",
      "나누는 수:  9 결과:  3\n",
      "나누는 수:  10 결과:  3\n"
     ]
    }
   ],
   "source": [
    "#for 문을 이용한 출력 만들기\n",
    "for i in range(1, 11):\n",
    "    print(\"나누는 수: \", i, \"결과: \", 30//i)"
   ]
  },
  {
   "cell_type": "code",
   "execution_count": 47,
   "id": "3c30b1a4",
   "metadata": {},
   "outputs": [],
   "source": [
    "#파이썬에서는 이중루프까지만 허용하고 삼중루프는 사실상 금기됨.\n",
    "#formating, 변수 모아두는 노하우, range 범위를 변수로 조절하는 법."
   ]
  },
  {
   "cell_type": "code",
   "execution_count": 52,
   "id": "f64c2231",
   "metadata": {},
   "outputs": [
    {
     "name": "stdout",
     "output_type": "stream",
     "text": [
      "안녕하세요, 저는 승민 입니다\n",
      "안녕하세요, 저는 승민 입니다\n"
     ]
    }
   ],
   "source": [
    "#formating(포맷팅)\n",
    "nm = '승민'\n",
    "print('안녕하세요, 저는 %s 입니다' %nm)\n",
    "print(f'안녕하세요, 저는 {nm} 입니다')"
   ]
  },
  {
   "cell_type": "code",
   "execution_count": 54,
   "id": "171a4a35",
   "metadata": {},
   "outputs": [
    {
     "name": "stdout",
     "output_type": "stream",
     "text": [
      "안녕하세요, 20221103 파이썬 3차시입니다\n",
      "안녕하세요, 20221103 파이썬 3차시입니다\n"
     ]
    }
   ],
   "source": [
    "today = '20221103'\n",
    "print(f'안녕하세요, {today} 파이썬 3차시입니다')\n",
    "print('안녕하세요, %s 파이썬 3차시입니다' %today)"
   ]
  },
  {
   "cell_type": "code",
   "execution_count": 56,
   "id": "7ede2c0b",
   "metadata": {},
   "outputs": [
    {
     "data": {
      "text/plain": [
       "'입력된 숫자는 456.12입니다'"
      ]
     },
     "execution_count": 56,
     "metadata": {},
     "output_type": "execute_result"
    }
   ],
   "source": [
    "#%s: 문자열로 입력될 때\n",
    "#%f: 실수로 입력될 때\n",
    "num = 456.1234\n",
    "'입력된 숫자는 %.2f입니다' %num"
   ]
  },
  {
   "cell_type": "code",
   "execution_count": 59,
   "id": "829b480c",
   "metadata": {},
   "outputs": [
    {
     "ename": "SyntaxError",
     "evalue": "f-string: empty expression not allowed (2006828875.py, line 2)",
     "output_type": "error",
     "traceback": [
      "\u001b[1;36m  File \u001b[1;32m\"C:\\Users\\user\\AppData\\Local\\Temp\\ipykernel_10948\\2006828875.py\"\u001b[1;36m, line \u001b[1;32m2\u001b[0m\n\u001b[1;33m    f'안녕하세요, {} 파이썬 3차시입니다'.format(today)\u001b[0m\n\u001b[1;37m                           ^\u001b[0m\n\u001b[1;31mSyntaxError\u001b[0m\u001b[1;31m:\u001b[0m f-string: empty expression not allowed\n"
     ]
    }
   ],
   "source": [
    "today = '20221103'\n",
    "f'안녕하세요, {} 파이썬 3차시입니다'.format(today)"
   ]
  },
  {
   "cell_type": "code",
   "execution_count": 60,
   "id": "199a2946",
   "metadata": {},
   "outputs": [
    {
     "name": "stdout",
     "output_type": "stream",
     "text": [
      "hello world!\n"
     ]
    }
   ],
   "source": [
    "x = 'hello world!'\n",
    "print(x)"
   ]
  },
  {
   "cell_type": "code",
   "execution_count": 64,
   "id": "0ad06b5f",
   "metadata": {},
   "outputs": [
    {
     "name": "stdout",
     "output_type": "stream",
     "text": [
      "14 안녕하세요\n",
      "7 7\n",
      "15 안녕하세요\n",
      "8 7\n",
      "프로그램 종료 안녕하세요\n",
      "hello 부분이 안녕하세요가 뜨기 때문에 hello = 안녕하세요\n"
     ]
    }
   ],
   "source": [
    "#hello가 선언되는지 확인하는 방법, 그리고 어떤 값이 들어있는지 확인하는 방법 찾아보기\n",
    "\n",
    "x = 7\n",
    "y = 9\n",
    "\n",
    "for i in range(x, y): # 7에서 9까지\n",
    "    print(i+x, hello)\n",
    "    print(i, x)\n",
    "\n",
    "print('프로그램 종료', hello)\n",
    "print('hello 부분이 안녕하세요가 뜨기 때문에 hello = 안녕하세요')"
   ]
  },
  {
   "cell_type": "code",
   "execution_count": 71,
   "id": "5fd4282b",
   "metadata": {},
   "outputs": [
    {
     "name": "stdout",
     "output_type": "stream",
     "text": [
      "hellohellohellohellohello\n",
      "hellohellohellohello\n",
      "hellohellohellohellohello\n"
     ]
    }
   ],
   "source": [
    "#range 범위를 변수로 조절하는 법\n",
    "#for - range문을 이용해서 4-8, 9-12, 16-20 범위에 따라 'hello'를 반복해서 출력한다\n",
    "#단, range에서는 두 가지 변수를 받도록 한다.\n",
    "\n",
    "x = 4\n",
    "y = 8\n",
    "for i in range(x, y+1):\n",
    "    print('hello', end=\"\")\n",
    "print()\n",
    "    \n",
    "x = 9\n",
    "y = 12\n",
    "for i in range(x, y+1):\n",
    "    print('hello', end=\"\")\n",
    "print()\n",
    "    \n",
    "x = 16\n",
    "y = 20\n",
    "for i in range(x, y+1):\n",
    "    print('hello', end=\"\")\n",
    "print()"
   ]
  },
  {
   "cell_type": "code",
   "execution_count": 75,
   "id": "e2590c7d",
   "metadata": {},
   "outputs": [
    {
     "name": "stdout",
     "output_type": "stream",
     "text": [
      "hellohellohellohellohellohello\n",
      "hellohellohellohellohellohello\n",
      "hellohellohellohellohellohello\n",
      "hellohellohellohellohellohello\n",
      "hellohellohellohellohellohello\n",
      "hellohellohellohellohellohello\n",
      "hellohellohellohellohellohello\n",
      "hellohellohellohellohellohello\n",
      "hellohellohellohellohellohello\n",
      "hellohellohellohellohellohello\n",
      "hellohellohellohellohellohello\n",
      "hellohellohellohellohellohello\n",
      "hellohellohellohellohellohello\n",
      "hellohellohellohellohellohello\n",
      "hellohellohellohellohellohello\n",
      "hellohellohellohellohellohello\n",
      "hellohellohellohellohellohello\n",
      "hellohellohellohellohellohello\n",
      "hellohellohellohellohellohello\n",
      "hellohellohellohellohellohello\n"
     ]
    }
   ],
   "source": [
    "for j in range(0, 20):\n",
    "    x = j\n",
    "    y = j+5\n",
    "    for i in range(x, y+1):\n",
    "        print('hello', end=\"\")\n",
    "    print()"
   ]
  },
  {
   "cell_type": "code",
   "execution_count": 74,
   "id": "b72e60ba",
   "metadata": {},
   "outputs": [
    {
     "name": "stdout",
     "output_type": "stream",
     "text": [
      "1 번째 루프입니다\n",
      "2 번째 루프입니다\n",
      "3 번째 루프입니다\n",
      "4 번째 루프입니다\n",
      "5 번째 루프입니다\n",
      "6 번째 루프입니다\n",
      "7 번째 루프입니다\n",
      "8 번째 루프입니다\n",
      "9 번째 루프입니다\n",
      "10 번째 루프입니다\n"
     ]
    }
   ],
   "source": [
    "for i in range(1, 11):\n",
    "    print(i, '번째 루프입니다')"
   ]
  },
  {
   "cell_type": "code",
   "execution_count": 76,
   "id": "92f07476",
   "metadata": {},
   "outputs": [
    {
     "name": "stdout",
     "output_type": "stream",
     "text": [
      "1 번째 j값이 변하는 루프입니다\n",
      "1 번째 i 값이 변하는 루프입니다\n",
      "13\n",
      "13\n",
      "2 번째 i 값이 변하는 루프입니다\n",
      "14\n",
      "12\n",
      "3 번째 i 값이 변하는 루프입니다\n",
      "15\n",
      "11\n",
      "4 번째 i 값이 변하는 루프입니다\n",
      "16\n",
      "10\n",
      "5 번째 i 값이 변하는 루프입니다\n",
      "17\n",
      "9\n",
      "6 번째 i 값이 변하는 루프입니다\n",
      "18\n",
      "8\n",
      "7 번째 i 값이 변하는 루프입니다\n",
      "19\n",
      "7\n",
      "8 번째 i 값이 변하는 루프입니다\n",
      "20\n",
      "6\n",
      "9 번째 i 값이 변하는 루프입니다\n",
      "21\n",
      "5\n",
      "10 번째 i 값이 변하는 루프입니다\n",
      "22\n",
      "4\n",
      "2 번째 j값이 변하는 루프입니다\n",
      "1 번째 i 값이 변하는 루프입니다\n",
      "13\n",
      "13\n",
      "2 번째 i 값이 변하는 루프입니다\n",
      "14\n",
      "12\n",
      "3 번째 i 값이 변하는 루프입니다\n",
      "15\n",
      "11\n",
      "4 번째 i 값이 변하는 루프입니다\n",
      "16\n",
      "10\n",
      "5 번째 i 값이 변하는 루프입니다\n",
      "17\n",
      "9\n",
      "6 번째 i 값이 변하는 루프입니다\n",
      "18\n",
      "8\n",
      "7 번째 i 값이 변하는 루프입니다\n",
      "19\n",
      "7\n",
      "8 번째 i 값이 변하는 루프입니다\n",
      "20\n",
      "6\n",
      "9 번째 i 값이 변하는 루프입니다\n",
      "21\n",
      "5\n",
      "10 번째 i 값이 변하는 루프입니다\n",
      "22\n",
      "4\n",
      "3 번째 j값이 변하는 루프입니다\n",
      "1 번째 i 값이 변하는 루프입니다\n",
      "13\n",
      "13\n",
      "2 번째 i 값이 변하는 루프입니다\n",
      "14\n",
      "12\n",
      "3 번째 i 값이 변하는 루프입니다\n",
      "15\n",
      "11\n",
      "4 번째 i 값이 변하는 루프입니다\n",
      "16\n",
      "10\n",
      "5 번째 i 값이 변하는 루프입니다\n",
      "17\n",
      "9\n",
      "6 번째 i 값이 변하는 루프입니다\n",
      "18\n",
      "8\n",
      "7 번째 i 값이 변하는 루프입니다\n",
      "19\n",
      "7\n",
      "8 번째 i 값이 변하는 루프입니다\n",
      "20\n",
      "6\n",
      "9 번째 i 값이 변하는 루프입니다\n",
      "21\n",
      "5\n",
      "10 번째 i 값이 변하는 루프입니다\n",
      "22\n",
      "4\n",
      "4 번째 j값이 변하는 루프입니다\n",
      "1 번째 i 값이 변하는 루프입니다\n",
      "13\n",
      "13\n",
      "2 번째 i 값이 변하는 루프입니다\n",
      "14\n",
      "12\n",
      "3 번째 i 값이 변하는 루프입니다\n",
      "15\n",
      "11\n",
      "4 번째 i 값이 변하는 루프입니다\n",
      "16\n",
      "10\n",
      "5 번째 i 값이 변하는 루프입니다\n",
      "17\n",
      "9\n",
      "6 번째 i 값이 변하는 루프입니다\n",
      "18\n",
      "8\n",
      "7 번째 i 값이 변하는 루프입니다\n",
      "19\n",
      "7\n",
      "8 번째 i 값이 변하는 루프입니다\n",
      "20\n",
      "6\n",
      "9 번째 i 값이 변하는 루프입니다\n",
      "21\n",
      "5\n",
      "10 번째 i 값이 변하는 루프입니다\n",
      "22\n",
      "4\n",
      "5 번째 j값이 변하는 루프입니다\n",
      "1 번째 i 값이 변하는 루프입니다\n",
      "13\n",
      "13\n",
      "2 번째 i 값이 변하는 루프입니다\n",
      "14\n",
      "12\n",
      "3 번째 i 값이 변하는 루프입니다\n",
      "15\n",
      "11\n",
      "4 번째 i 값이 변하는 루프입니다\n",
      "16\n",
      "10\n",
      "5 번째 i 값이 변하는 루프입니다\n",
      "17\n",
      "9\n",
      "6 번째 i 값이 변하는 루프입니다\n",
      "18\n",
      "8\n",
      "7 번째 i 값이 변하는 루프입니다\n",
      "19\n",
      "7\n",
      "8 번째 i 값이 변하는 루프입니다\n",
      "20\n",
      "6\n",
      "9 번째 i 값이 변하는 루프입니다\n",
      "21\n",
      "5\n",
      "10 번째 i 값이 변하는 루프입니다\n",
      "22\n",
      "4\n",
      "6 번째 j값이 변하는 루프입니다\n",
      "1 번째 i 값이 변하는 루프입니다\n",
      "13\n",
      "13\n",
      "2 번째 i 값이 변하는 루프입니다\n",
      "14\n",
      "12\n",
      "3 번째 i 값이 변하는 루프입니다\n",
      "15\n",
      "11\n",
      "4 번째 i 값이 변하는 루프입니다\n",
      "16\n",
      "10\n",
      "5 번째 i 값이 변하는 루프입니다\n",
      "17\n",
      "9\n",
      "6 번째 i 값이 변하는 루프입니다\n",
      "18\n",
      "8\n",
      "7 번째 i 값이 변하는 루프입니다\n",
      "19\n",
      "7\n",
      "8 번째 i 값이 변하는 루프입니다\n",
      "20\n",
      "6\n",
      "9 번째 i 값이 변하는 루프입니다\n",
      "21\n",
      "5\n",
      "10 번째 i 값이 변하는 루프입니다\n",
      "22\n",
      "4\n",
      "7 번째 j값이 변하는 루프입니다\n",
      "1 번째 i 값이 변하는 루프입니다\n",
      "13\n",
      "13\n",
      "2 번째 i 값이 변하는 루프입니다\n",
      "14\n",
      "12\n",
      "3 번째 i 값이 변하는 루프입니다\n",
      "15\n",
      "11\n",
      "4 번째 i 값이 변하는 루프입니다\n",
      "16\n",
      "10\n",
      "5 번째 i 값이 변하는 루프입니다\n",
      "17\n",
      "9\n",
      "6 번째 i 값이 변하는 루프입니다\n",
      "18\n",
      "8\n",
      "7 번째 i 값이 변하는 루프입니다\n",
      "19\n",
      "7\n",
      "8 번째 i 값이 변하는 루프입니다\n",
      "20\n",
      "6\n",
      "9 번째 i 값이 변하는 루프입니다\n",
      "21\n",
      "5\n",
      "10 번째 i 값이 변하는 루프입니다\n",
      "22\n",
      "4\n",
      "8 번째 j값이 변하는 루프입니다\n",
      "1 번째 i 값이 변하는 루프입니다\n",
      "13\n",
      "13\n",
      "2 번째 i 값이 변하는 루프입니다\n",
      "14\n",
      "12\n",
      "3 번째 i 값이 변하는 루프입니다\n",
      "15\n",
      "11\n",
      "4 번째 i 값이 변하는 루프입니다\n",
      "16\n",
      "10\n",
      "5 번째 i 값이 변하는 루프입니다\n",
      "17\n",
      "9\n",
      "6 번째 i 값이 변하는 루프입니다\n",
      "18\n",
      "8\n",
      "7 번째 i 값이 변하는 루프입니다\n",
      "19\n",
      "7\n",
      "8 번째 i 값이 변하는 루프입니다\n",
      "20\n",
      "6\n",
      "9 번째 i 값이 변하는 루프입니다\n",
      "21\n",
      "5\n",
      "10 번째 i 값이 변하는 루프입니다\n",
      "22\n",
      "4\n",
      "9 번째 j값이 변하는 루프입니다\n",
      "1 번째 i 값이 변하는 루프입니다\n",
      "13\n",
      "13\n",
      "2 번째 i 값이 변하는 루프입니다\n",
      "14\n",
      "12\n",
      "3 번째 i 값이 변하는 루프입니다\n",
      "15\n",
      "11\n",
      "4 번째 i 값이 변하는 루프입니다\n",
      "16\n",
      "10\n",
      "5 번째 i 값이 변하는 루프입니다\n",
      "17\n",
      "9\n",
      "6 번째 i 값이 변하는 루프입니다\n",
      "18\n",
      "8\n",
      "7 번째 i 값이 변하는 루프입니다\n",
      "19\n",
      "7\n",
      "8 번째 i 값이 변하는 루프입니다\n",
      "20\n",
      "6\n",
      "9 번째 i 값이 변하는 루프입니다\n",
      "21\n",
      "5\n",
      "10 번째 i 값이 변하는 루프입니다\n",
      "22\n",
      "4\n",
      "10 번째 j값이 변하는 루프입니다\n",
      "1 번째 i 값이 변하는 루프입니다\n",
      "13\n",
      "13\n",
      "2 번째 i 값이 변하는 루프입니다\n",
      "14\n",
      "12\n",
      "3 번째 i 값이 변하는 루프입니다\n",
      "15\n",
      "11\n",
      "4 번째 i 값이 변하는 루프입니다\n",
      "16\n",
      "10\n",
      "5 번째 i 값이 변하는 루프입니다\n",
      "17\n",
      "9\n",
      "6 번째 i 값이 변하는 루프입니다\n",
      "18\n",
      "8\n",
      "7 번째 i 값이 변하는 루프입니다\n",
      "19\n",
      "7\n",
      "8 번째 i 값이 변하는 루프입니다\n",
      "20\n",
      "6\n",
      "9 번째 i 값이 변하는 루프입니다\n",
      "21\n",
      "5\n",
      "10 번째 i 값이 변하는 루프입니다\n",
      "22\n",
      "4\n"
     ]
    }
   ],
   "source": [
    "x = 12\n",
    "y = 14\n",
    "\n",
    "for j in range(1, 11):\n",
    "    print(j, '번째 j값이 변하는 루프입니다')\n",
    "    \n",
    "    for i in range(1, 11):\n",
    "        print(i, '번째 i 값이 변하는 루프입니다')\n",
    "        print(x+i)\n",
    "        print(y-i)"
   ]
  },
  {
   "cell_type": "code",
   "execution_count": 78,
   "id": "034a9f45",
   "metadata": {},
   "outputs": [
    {
     "name": "stdout",
     "output_type": "stream",
     "text": [
      "1\n",
      "9\n",
      "6\n",
      "5\n",
      "8\n",
      "3\n",
      "1\n",
      "4\n",
      "5\n"
     ]
    }
   ],
   "source": [
    "for i in [1, 9, 6, 5, 8, 3, 1, 4, 5]:\n",
    "    print(i) #오름차순이 아닐 수도 있다!"
   ]
  },
  {
   "cell_type": "code",
   "execution_count": 80,
   "id": "18d983c9",
   "metadata": {},
   "outputs": [
    {
     "name": "stdout",
     "output_type": "stream",
     "text": [
      "4\n",
      "5\n",
      "6\n",
      "7\n",
      "8\n",
      "9\n",
      "iiiiiiiiiiiiiiiiiiiiiiiiiiiiiiiiiiiiiiiiiiiiiiiiiiiiiiiiiiiiiiiiiiiiiiiiiiiiiiiiiii\n",
      "iiiiiiiiiiiiiiiiiiiiiiiiiiiiiiiiiiiiiiiiiiiiiiiiiiiiiiiiiiiiiiiiii\n",
      "iiiiiiiiiiiiiiiiiiiiiiiiiiiiiiiiiiiiiiiiiiiiiiiiiiiiiiiiiiiiiiiiiiiiiiiiiiiiiiiiiiiiiiiiiiiiiiiiiii\n",
      "iiiiiiiiii\n",
      "ii\n",
      "9\n",
      "10\n",
      "11\n",
      "12\n"
     ]
    }
   ],
   "source": [
    "for i in range(4, 10):\n",
    "    print(i)\n",
    "    \n",
    "for i in [83, 66, 99, 10, 2]:\n",
    "    print('i'*i)\n",
    "    \n",
    "for i in range(9, 13):\n",
    "    print(i)"
   ]
  },
  {
   "cell_type": "code",
   "execution_count": 83,
   "id": "ca0e208d",
   "metadata": {},
   "outputs": [
    {
     "name": "stdout",
     "output_type": "stream",
     "text": [
      "4\n",
      "5\n",
      "6\n",
      "7\n",
      "8\n",
      "9\n",
      "83\n",
      "66\n",
      "99\n",
      "10\n",
      "2\n",
      "9\n",
      "10\n",
      "11\n",
      "12\n"
     ]
    }
   ],
   "source": [
    "x = list(range(4, 10))\n",
    "y = [83, 66, 99, 10, 2]\n",
    "z = list(range(9, 13))\n",
    "for i in list(range(4, 10))+[83, 66, 99, 10, 2]+list(range(9, 13)):\n",
    "    print(i)"
   ]
  },
  {
   "cell_type": "code",
   "execution_count": 85,
   "id": "fcd95c59",
   "metadata": {},
   "outputs": [
    {
     "name": "stdout",
     "output_type": "stream",
     "text": [
      "1 2 3\n"
     ]
    },
    {
     "ename": "ValueError",
     "evalue": "too many values to unpack (expected 3)",
     "output_type": "error",
     "traceback": [
      "\u001b[1;31m---------------------------------------------------------------------------\u001b[0m",
      "\u001b[1;31mValueError\u001b[0m                                Traceback (most recent call last)",
      "\u001b[1;32m~\\AppData\\Local\\Temp\\ipykernel_10948\\1588012836.py\u001b[0m in \u001b[0;36m<module>\u001b[1;34m\u001b[0m\n\u001b[0;32m      1\u001b[0m \u001b[0ml\u001b[0m \u001b[1;33m=\u001b[0m \u001b[1;33m[\u001b[0m\u001b[1;33m[\u001b[0m\u001b[1;36m1\u001b[0m\u001b[1;33m,\u001b[0m \u001b[1;36m2\u001b[0m\u001b[1;33m,\u001b[0m \u001b[1;36m3\u001b[0m\u001b[1;33m]\u001b[0m\u001b[1;33m,\u001b[0m \u001b[1;33m[\u001b[0m\u001b[1;36m4\u001b[0m\u001b[1;33m,\u001b[0m\u001b[1;36m5\u001b[0m \u001b[1;33m,\u001b[0m\u001b[1;36m5\u001b[0m\u001b[1;33m,\u001b[0m \u001b[1;36m6\u001b[0m\u001b[1;33m]\u001b[0m\u001b[1;33m,\u001b[0m \u001b[1;33m[\u001b[0m\u001b[1;36m7\u001b[0m\u001b[1;33m,\u001b[0m \u001b[1;36m8\u001b[0m\u001b[1;33m,\u001b[0m \u001b[1;36m9\u001b[0m\u001b[1;33m]\u001b[0m\u001b[1;33m]\u001b[0m\u001b[1;33m\u001b[0m\u001b[1;33m\u001b[0m\u001b[0m\n\u001b[1;32m----> 2\u001b[1;33m \u001b[1;32mfor\u001b[0m \u001b[0mi\u001b[0m\u001b[1;33m,\u001b[0m \u001b[0mj\u001b[0m\u001b[1;33m,\u001b[0m \u001b[0mk\u001b[0m \u001b[1;32min\u001b[0m \u001b[0ml\u001b[0m\u001b[1;33m:\u001b[0m\u001b[1;33m\u001b[0m\u001b[1;33m\u001b[0m\u001b[0m\n\u001b[0m\u001b[0;32m      3\u001b[0m     \u001b[0mprint\u001b[0m\u001b[1;33m(\u001b[0m\u001b[0mi\u001b[0m\u001b[1;33m,\u001b[0m \u001b[0mj\u001b[0m\u001b[1;33m,\u001b[0m \u001b[0mk\u001b[0m\u001b[1;33m)\u001b[0m\u001b[1;33m\u001b[0m\u001b[1;33m\u001b[0m\u001b[0m\n",
      "\u001b[1;31mValueError\u001b[0m: too many values to unpack (expected 3)"
     ]
    }
   ],
   "source": [
    "l = [[1, 2, 3], [4,5 ,5, 6], [7, 8, 9]]\n",
    "for i, j, k in l:\n",
    "    print(i, j, k)"
   ]
  },
  {
   "cell_type": "code",
   "execution_count": 86,
   "id": "c04bb82e",
   "metadata": {},
   "outputs": [
    {
     "name": "stdout",
     "output_type": "stream",
     "text": [
      "0 0 0 0 \n",
      "1 1 1 1 \n",
      "2 2 2 2 \n",
      "3 3 3 3 \n"
     ]
    }
   ],
   "source": [
    "for i in range(4):\n",
    "    for j in range(4):\n",
    "        print(i, end=\" \")\n",
    "    print()"
   ]
  },
  {
   "cell_type": "code",
   "execution_count": 90,
   "id": "e4d409e9",
   "metadata": {},
   "outputs": [
    {
     "name": "stdout",
     "output_type": "stream",
     "text": [
      "9 9 9 9 9 9 9 9 \n",
      "6 6 6 6 6 6 6 6 \n",
      "3 3 3 3 3 3 3 3 \n",
      "5 5 5 5 5 5 5 5 \n",
      "4 4 4 4 4 4 4 4 \n",
      "8 8 8 8 8 8 8 8 \n",
      "7 7 7 7 7 7 7 7 \n",
      "5 5 5 5 5 5 5 5 \n"
     ]
    }
   ],
   "source": [
    "for i in [9, 6, 3, 5, 4, 8, 7, 5]:\n",
    "    for j in range(8):\n",
    "        print(i, end=\" \")\n",
    "    print()"
   ]
  },
  {
   "cell_type": "code",
   "execution_count": null,
   "id": "72880863",
   "metadata": {},
   "outputs": [],
   "source": [
    "print('오늘은\\t문자열을\\t배웠고\\n그\\n지식을\\n이용해문자열 수정을 해봅시다\\n')"
   ]
  }
 ],
 "metadata": {
  "kernelspec": {
   "display_name": "Python 3 (ipykernel)",
   "language": "python",
   "name": "python3"
  },
  "language_info": {
   "codemirror_mode": {
    "name": "ipython",
    "version": 3
   },
   "file_extension": ".py",
   "mimetype": "text/x-python",
   "name": "python",
   "nbconvert_exporter": "python",
   "pygments_lexer": "ipython3",
   "version": "3.9.13"
  }
 },
 "nbformat": 4,
 "nbformat_minor": 5
}

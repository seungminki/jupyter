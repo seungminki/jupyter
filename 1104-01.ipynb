{
 "cells": [
  {
   "cell_type": "code",
   "execution_count": 1,
   "id": "475e1cf2",
   "metadata": {},
   "outputs": [
    {
     "data": {
      "text/plain": [
       "64"
      ]
     },
     "execution_count": 1,
     "metadata": {},
     "output_type": "execute_result"
    }
   ],
   "source": [
    "2**6"
   ]
  },
  {
   "cell_type": "code",
   "execution_count": 2,
   "id": "dec9bd6b",
   "metadata": {},
   "outputs": [
    {
     "name": "stdout",
     "output_type": "stream",
     "text": [
      "64\n"
     ]
    }
   ],
   "source": [
    "print(2**6)"
   ]
  },
  {
   "cell_type": "markdown",
   "id": "5d3637ad",
   "metadata": {},
   "source": [
    "'문자열1'.join(['문자열2', '문자열3'])\n",
    "-문자열 2와 문자열 3을 문자열 1을 구분자로 해서 합친다.\n",
    "\n",
    "'문자열1'.split('문자열2')\n",
    "-문자열 1을 문자열 2 구분자를 기준으로 해서 나눈다.\n",
    "-결과물은 항상 리스트로 나온다\n",
    "\n",
    "'문자열1'.strip('문자열2')\n",
    "-문자열 1의 좌우에 문자열 2와 동일한 문자열을 삭제한다.\n",
    "\n",
    "'문자열1'.lstrip('문자열2')\n",
    "-문자열 1의 왼쪽에 문자열 2와 동일한 문자열을 삭제한다.\n",
    "\n",
    "'문자열1'.rstrip('문자열2')\n",
    "-문자열1의 오른쪽에 문자열 2와 동일한 문자열을 삭제한다.\n",
    "\n",
    "'문자열1'.replace('문자열2', '문자열3')\n",
    "-문자열 1에서 문자열 2와 일치하는 것을 문자열 3으로 바꾼다"
   ]
  },
  {
   "cell_type": "code",
   "execution_count": 6,
   "id": "8826fe38",
   "metadata": {},
   "outputs": [
    {
     "name": "stdout",
     "output_type": "stream",
     "text": [
      "15\n",
      "2\n",
      "4\n",
      "6\n",
      "8\n",
      "10\n",
      "12\n",
      "14\n"
     ]
    }
   ],
   "source": [
    "x = int(input())\n",
    "\n",
    "for i in range(1, x+1):\n",
    "    if i % 2 == 0:\n",
    "        print(i)"
   ]
  },
  {
   "cell_type": "code",
   "execution_count": 32,
   "id": "b9c2d36d",
   "metadata": {},
   "outputs": [
    {
     "name": "stdout",
     "output_type": "stream",
     "text": [
      "오늘은%문자열을%배웠고\n",
      "%그%지식을%이용해%문자열%수정을%해%봅시다%\n"
     ]
    }
   ],
   "source": [
    "a = '오늘은\\t문자열을\\t배웠고,\\t그\\t지식을\\t이용해\\t문자열\\t수정을\\t해\\t봅시다\\n'\n",
    "b = a.replace('\\t', ' ')\n",
    "c = b.replace('\\n', ' ')\n",
    "d = c.replace(' ', '%')\n",
    "e = d.split(',')\n",
    "f = '\\n'.join([e[0], e[1]])\n",
    "print(f)"
   ]
  },
  {
   "cell_type": "code",
   "execution_count": 17,
   "id": "a7d80ded",
   "metadata": {},
   "outputs": [
    {
     "data": {
      "text/plain": [
       "'오늘은\\t문자열을\\t배웠고,\\t그\\t지식을\\t이용해\\t문자열\\t수정을\\t해\\t봅시다 '"
      ]
     },
     "execution_count": 17,
     "metadata": {},
     "output_type": "execute_result"
    }
   ],
   "source": []
  },
  {
   "cell_type": "code",
   "execution_count": 20,
   "id": "a04409c3",
   "metadata": {},
   "outputs": [
    {
     "name": "stdout",
     "output_type": "stream",
     "text": [
      "10444\n",
      "-870076\n",
      "22528399544939174411840147874772641\n",
      "1 3 1.75\n"
     ]
    }
   ],
   "source": [
    "print(9988+456)\n",
    "print(9936-880012)\n",
    "print(3**72) #지수는 ** 인것을 잊지말자\n",
    "print(7//4, 7%4, 7/4)"
   ]
  },
  {
   "cell_type": "code",
   "execution_count": 36,
   "id": "142d324a",
   "metadata": {},
   "outputs": [
    {
     "name": "stdout",
     "output_type": "stream",
     "text": [
      "3 홀수\n",
      "72 짝수\n",
      "99 홀수\n",
      "108 짝수\n",
      "40 짝수\n",
      "5 홀수\n"
     ]
    }
   ],
   "source": [
    "for i in [3, 72, 99, 108, 40, 5]:\n",
    "    if i % 2 == 0:\n",
    "        print(i, '짝수')\n",
    "    else:\n",
    "        print(i, '홀수')"
   ]
  },
  {
   "cell_type": "code",
   "execution_count": 28,
   "id": "8c9ba5e3",
   "metadata": {},
   "outputs": [
    {
     "data": {
      "text/plain": [
       "False"
      ]
     },
     "execution_count": 28,
     "metadata": {},
     "output_type": "execute_result"
    }
   ],
   "source": [
    "3 % 2 == 0"
   ]
  },
  {
   "cell_type": "code",
   "execution_count": 35,
   "id": "de9328de",
   "metadata": {},
   "outputs": [
    {
     "name": "stdout",
     "output_type": "stream",
     "text": [
      "안녕하세요\n",
      "세\n",
      "녕하세요\n",
      "녕하\n"
     ]
    }
   ],
   "source": [
    "s = '안녕하세요'\n",
    "print(s)\n",
    "print(s[3])\n",
    "print(s[1:])\n",
    "print(s[1:3]) #1~3까지 리턴을 함"
   ]
  },
  {
   "cell_type": "code",
   "execution_count": 38,
   "id": "7b5309d3",
   "metadata": {},
   "outputs": [
    {
     "name": "stdout",
     "output_type": "stream",
     "text": [
      "[1, 2, 34, 5, 699, 0, 2, 'wsk', 2, [22, 0.9]]\n"
     ]
    }
   ],
   "source": [
    "l = [1, 2, 34, 5, 699, 0, 2, 'wsk', 1+1, [22, 0.9]]\n",
    "print(l)"
   ]
  },
  {
   "cell_type": "code",
   "execution_count": 39,
   "id": "2bb6d240",
   "metadata": {},
   "outputs": [
    {
     "data": {
      "text/plain": [
       "[1, 23, 6, 9, 3, 6]"
      ]
     },
     "execution_count": 39,
     "metadata": {},
     "output_type": "execute_result"
    }
   ],
   "source": [
    "[1, 23, 6] + [9, 3, 6]"
   ]
  },
  {
   "cell_type": "code",
   "execution_count": 40,
   "id": "f8618369",
   "metadata": {},
   "outputs": [],
   "source": [
    "l2 = ['월', '화', '수', '목', '금', '토', '일']"
   ]
  },
  {
   "cell_type": "code",
   "execution_count": 43,
   "id": "7c3a5977",
   "metadata": {},
   "outputs": [
    {
     "data": {
      "text/plain": [
       "'일'"
      ]
     },
     "execution_count": 43,
     "metadata": {},
     "output_type": "execute_result"
    }
   ],
   "source": [
    "l2.pop()"
   ]
  },
  {
   "cell_type": "code",
   "execution_count": 44,
   "id": "9c067acd",
   "metadata": {},
   "outputs": [
    {
     "data": {
      "text/plain": [
       "['월', '화', '수', '목', '금', '토']"
      ]
     },
     "execution_count": 44,
     "metadata": {},
     "output_type": "execute_result"
    }
   ],
   "source": [
    "l2"
   ]
  },
  {
   "cell_type": "code",
   "execution_count": 168,
   "id": "b824ac9b",
   "metadata": {},
   "outputs": [
    {
     "data": {
      "text/plain": [
       "[99, 4, 8, 7.2, [6], 'hello']"
      ]
     },
     "execution_count": 168,
     "metadata": {},
     "output_type": "execute_result"
    }
   ],
   "source": [
    "list5 = [4]\n",
    "[99] + list5 + [8, 7.2, [6], 'hello']"
   ]
  },
  {
   "cell_type": "code",
   "execution_count": 169,
   "id": "e59a6344",
   "metadata": {},
   "outputs": [
    {
     "ename": "AttributeError",
     "evalue": "'list' object has no attribute 'push'",
     "output_type": "error",
     "traceback": [
      "\u001b[1;31m---------------------------------------------------------------------------\u001b[0m",
      "\u001b[1;31mAttributeError\u001b[0m                            Traceback (most recent call last)",
      "\u001b[1;32m~\\AppData\\Local\\Temp\\ipykernel_18036\\187289532.py\u001b[0m in \u001b[0;36m<module>\u001b[1;34m\u001b[0m\n\u001b[0;32m      1\u001b[0m \u001b[0mlist5\u001b[0m \u001b[1;33m=\u001b[0m \u001b[1;33m[\u001b[0m\u001b[1;36m4\u001b[0m\u001b[1;33m]\u001b[0m\u001b[1;33m\u001b[0m\u001b[1;33m\u001b[0m\u001b[0m\n\u001b[0;32m      2\u001b[0m \u001b[0mlist5\u001b[0m\u001b[1;33m.\u001b[0m\u001b[0mpop\u001b[0m\u001b[1;33m(\u001b[0m\u001b[1;33m)\u001b[0m\u001b[1;33m\u001b[0m\u001b[1;33m\u001b[0m\u001b[0m\n\u001b[1;32m----> 3\u001b[1;33m \u001b[0mlist5\u001b[0m\u001b[1;33m.\u001b[0m\u001b[0mpush\u001b[0m\u001b[1;33m(\u001b[0m\u001b[1;33m)\u001b[0m\u001b[1;33m\u001b[0m\u001b[1;33m\u001b[0m\u001b[0m\n\u001b[0m",
      "\u001b[1;31mAttributeError\u001b[0m: 'list' object has no attribute 'push'"
     ]
    }
   ],
   "source": [
    "list5 = [4]\n",
    "list5.pop()\n",
    "list5.push()"
   ]
  },
  {
   "cell_type": "code",
   "execution_count": 81,
   "id": "763d9420",
   "metadata": {},
   "outputs": [
    {
     "ename": "TypeError",
     "evalue": "'int' object is not iterable",
     "output_type": "error",
     "traceback": [
      "\u001b[1;31m---------------------------------------------------------------------------\u001b[0m",
      "\u001b[1;31mTypeError\u001b[0m                                 Traceback (most recent call last)",
      "\u001b[1;32m~\\AppData\\Local\\Temp\\ipykernel_18036\\601073857.py\u001b[0m in \u001b[0;36m<module>\u001b[1;34m\u001b[0m\n\u001b[0;32m      2\u001b[0m \u001b[0my\u001b[0m \u001b[1;33m=\u001b[0m \u001b[0mx\u001b[0m\u001b[1;33m.\u001b[0m\u001b[0mpop\u001b[0m\u001b[1;33m(\u001b[0m\u001b[1;33m)\u001b[0m\u001b[1;33m\u001b[0m\u001b[1;33m\u001b[0m\u001b[0m\n\u001b[0;32m      3\u001b[0m \u001b[0mx\u001b[0m \u001b[1;33m=\u001b[0m \u001b[0mx\u001b[0m \u001b[1;33m+\u001b[0m \u001b[1;33m[\u001b[0m\u001b[1;36m99\u001b[0m\u001b[1;33m]\u001b[0m\u001b[1;33m\u001b[0m\u001b[1;33m\u001b[0m\u001b[0m\n\u001b[1;32m----> 4\u001b[1;33m \u001b[0mx\u001b[0m \u001b[1;33m+=\u001b[0m \u001b[0my\u001b[0m\u001b[1;33m\u001b[0m\u001b[1;33m\u001b[0m\u001b[0m\n\u001b[0m\u001b[0;32m      5\u001b[0m \u001b[0mx\u001b[0m \u001b[1;33m+=\u001b[0m \u001b[1;33m[\u001b[0m\u001b[1;36m8\u001b[0m\u001b[1;33m,\u001b[0m \u001b[1;36m7.2\u001b[0m\u001b[1;33m,\u001b[0m \u001b[1;33m[\u001b[0m\u001b[1;36m6\u001b[0m\u001b[1;33m]\u001b[0m\u001b[1;33m,\u001b[0m \u001b[1;34m'hello'\u001b[0m\u001b[1;33m]\u001b[0m\u001b[1;33m\u001b[0m\u001b[1;33m\u001b[0m\u001b[0m\n\u001b[0;32m      6\u001b[0m \u001b[0mprint\u001b[0m\u001b[1;33m(\u001b[0m\u001b[0mx\u001b[0m\u001b[1;33m)\u001b[0m\u001b[1;33m\u001b[0m\u001b[1;33m\u001b[0m\u001b[0m\n",
      "\u001b[1;31mTypeError\u001b[0m: 'int' object is not iterable"
     ]
    }
   ],
   "source": [
    "x = [4]\n",
    "y = x.pop()\n",
    "x = x + [99]\n",
    "x += y\n",
    "x += [8, 7.2, [6], 'hello']\n",
    "print(x)"
   ]
  },
  {
   "cell_type": "code",
   "execution_count": 74,
   "id": "4ec265db",
   "metadata": {},
   "outputs": [],
   "source": [
    "x = [4]\n",
    "y = x.pop()"
   ]
  },
  {
   "cell_type": "code",
   "execution_count": 75,
   "id": "d04c7b8a",
   "metadata": {},
   "outputs": [
    {
     "data": {
      "text/plain": [
       "4"
      ]
     },
     "execution_count": 75,
     "metadata": {},
     "output_type": "execute_result"
    }
   ],
   "source": [
    "y"
   ]
  },
  {
   "cell_type": "code",
   "execution_count": 76,
   "id": "75952b7a",
   "metadata": {},
   "outputs": [],
   "source": [
    "x.append(99)"
   ]
  },
  {
   "cell_type": "code",
   "execution_count": 77,
   "id": "a092b910",
   "metadata": {},
   "outputs": [
    {
     "data": {
      "text/plain": [
       "[99]"
      ]
     },
     "execution_count": 77,
     "metadata": {},
     "output_type": "execute_result"
    }
   ],
   "source": [
    "x"
   ]
  },
  {
   "cell_type": "code",
   "execution_count": 78,
   "id": "e522431f",
   "metadata": {},
   "outputs": [],
   "source": [
    "x.append(y)"
   ]
  },
  {
   "cell_type": "code",
   "execution_count": 79,
   "id": "c2248358",
   "metadata": {},
   "outputs": [],
   "source": [
    "x.append(8)\n",
    "x.append(7.2)\n",
    "x.append([6])\n",
    "x.append('hello') #push의 개념"
   ]
  },
  {
   "cell_type": "code",
   "execution_count": 80,
   "id": "c3c0ff64",
   "metadata": {},
   "outputs": [
    {
     "data": {
      "text/plain": [
       "[99, 4, 8, 7.2, [6], 'hello']"
      ]
     },
     "execution_count": 80,
     "metadata": {},
     "output_type": "execute_result"
    }
   ],
   "source": [
    "x"
   ]
  },
  {
   "cell_type": "code",
   "execution_count": 82,
   "id": "682da67c",
   "metadata": {},
   "outputs": [],
   "source": [
    "dic = { 'hello': 123, 'world': 456}"
   ]
  },
  {
   "cell_type": "code",
   "execution_count": 83,
   "id": "fe660491",
   "metadata": {},
   "outputs": [
    {
     "data": {
      "text/plain": [
       "{'hello': 123, 'world': 456}"
      ]
     },
     "execution_count": 83,
     "metadata": {},
     "output_type": "execute_result"
    }
   ],
   "source": [
    "dic"
   ]
  },
  {
   "cell_type": "code",
   "execution_count": 84,
   "id": "46fb1a98",
   "metadata": {},
   "outputs": [
    {
     "data": {
      "text/plain": [
       "456"
      ]
     },
     "execution_count": 84,
     "metadata": {},
     "output_type": "execute_result"
    }
   ],
   "source": [
    "dic['world']"
   ]
  },
  {
   "cell_type": "markdown",
   "id": "000e9753",
   "metadata": {},
   "source": [
    "{ 'hello': 123, 'world': 456}, # key = 'hello', 'world'\n",
    "{123, 456} #key = 0.1"
   ]
  },
  {
   "cell_type": "code",
   "execution_count": 86,
   "id": "49282d43",
   "metadata": {},
   "outputs": [
    {
     "ename": "TypeError",
     "evalue": "unsupported operand type(s) for +=: 'dict' and 'dict'",
     "output_type": "error",
     "traceback": [
      "\u001b[1;31m---------------------------------------------------------------------------\u001b[0m",
      "\u001b[1;31mTypeError\u001b[0m                                 Traceback (most recent call last)",
      "\u001b[1;32m~\\AppData\\Local\\Temp\\ipykernel_18036\\4094687424.py\u001b[0m in \u001b[0;36m<module>\u001b[1;34m\u001b[0m\n\u001b[1;32m----> 1\u001b[1;33m \u001b[0mdic\u001b[0m \u001b[1;33m+=\u001b[0m \u001b[1;33m{\u001b[0m\u001b[1;34m'wow'\u001b[0m\u001b[1;33m:\u001b[0m \u001b[1;36m789\u001b[0m\u001b[1;33m}\u001b[0m\u001b[1;33m\u001b[0m\u001b[1;33m\u001b[0m\u001b[0m\n\u001b[0m",
      "\u001b[1;31mTypeError\u001b[0m: unsupported operand type(s) for +=: 'dict' and 'dict'"
     ]
    }
   ],
   "source": [
    "dic += {'wow': 789} #list와 다름. dictonary는 할당이 안됨"
   ]
  },
  {
   "cell_type": "code",
   "execution_count": 87,
   "id": "299b7584",
   "metadata": {},
   "outputs": [
    {
     "ename": "NameError",
     "evalue": "name 'ᅵ' is not defined",
     "output_type": "error",
     "traceback": [
      "\u001b[1;31m---------------------------------------------------------------------------\u001b[0m",
      "\u001b[1;31mNameError\u001b[0m                                 Traceback (most recent call last)",
      "\u001b[1;32m~\\AppData\\Local\\Temp\\ipykernel_18036\\2094806603.py\u001b[0m in \u001b[0;36m<module>\u001b[1;34m\u001b[0m\n\u001b[1;32m----> 1\u001b[1;33m \u001b[0mㅣ\u001b[0m\u001b[1;33m\u001b[0m\u001b[1;33m\u001b[0m\u001b[0m\n\u001b[0m",
      "\u001b[1;31mNameError\u001b[0m: name 'ᅵ' is not defined"
     ]
    }
   ],
   "source": [
    "ㅣ"
   ]
  },
  {
   "cell_type": "markdown",
   "id": "e6ee417f",
   "metadata": {},
   "source": [
    "list는 변경은 되는데 추가는 안됨. 말하자면 복잡..."
   ]
  },
  {
   "cell_type": "code",
   "execution_count": 88,
   "id": "a0e34513",
   "metadata": {},
   "outputs": [],
   "source": [
    "#튜플\n",
    "t = (9, 5, 3, 40, 99, 'wi')"
   ]
  },
  {
   "cell_type": "code",
   "execution_count": 89,
   "id": "04561f9b",
   "metadata": {},
   "outputs": [
    {
     "data": {
      "text/plain": [
       "(9, 5, 3, 40, 99, 'wi')"
      ]
     },
     "execution_count": 89,
     "metadata": {},
     "output_type": "execute_result"
    }
   ],
   "source": [
    "t"
   ]
  },
  {
   "cell_type": "code",
   "execution_count": 90,
   "id": "34cf5766",
   "metadata": {},
   "outputs": [
    {
     "data": {
      "text/plain": [
       "'wi'"
      ]
     },
     "execution_count": 90,
     "metadata": {},
     "output_type": "execute_result"
    }
   ],
   "source": [
    "t[5]"
   ]
  },
  {
   "cell_type": "code",
   "execution_count": 91,
   "id": "3d26a570",
   "metadata": {},
   "outputs": [
    {
     "data": {
      "text/plain": [
       "(9, 5, 3)"
      ]
     },
     "execution_count": 91,
     "metadata": {},
     "output_type": "execute_result"
    }
   ],
   "source": [
    "t[:3]"
   ]
  },
  {
   "cell_type": "code",
   "execution_count": 98,
   "id": "ddde283f",
   "metadata": {},
   "outputs": [
    {
     "name": "stdout",
     "output_type": "stream",
     "text": [
      "86\n",
      "2.24\n"
     ]
    }
   ],
   "source": [
    "#실습) 튜플 계산 시도 해보기\n",
    "튜플 t = (4, 9, [77], 0.32, 'qi')를 이용해 연산해보자\n",
    "튜플의 2번 자리에 있는 값에 9 더하기\n",
    "튜플의 3번 자리에 있는 값에 7 곱하기\n",
    "튜플의 0번 자리에 있는 값을 65.45로 바꾸기\n",
    "가능하다면 해보고, 불가능하다면 이유를 알아보자\n",
    "t = (4, 9, [77], 0.32, 'qi')\n",
    "y = t[2].pop()\n",
    "print(y+9)\n",
    "#print(t[2]+9) list라서 덧셈이 안됨\n",
    "print(t[3]*7)\n",
    "#튜플은 변경할 수 없는 자료형이라서 바꾸더라도 주소값이 바뀌어서 결론적으로 새로운, 또다른 튜플이다"
   ]
  },
  {
   "cell_type": "code",
   "execution_count": 104,
   "id": "a13652bb",
   "metadata": {},
   "outputs": [],
   "source": [
    "x = [77] \n",
    "t2 = (x, 9, [77], 0.32, 'qi')"
   ]
  },
  {
   "cell_type": "code",
   "execution_count": 105,
   "id": "3cb70feb",
   "metadata": {},
   "outputs": [
    {
     "data": {
      "text/plain": [
       "([77], 9, [77], 0.32, 'qi')"
      ]
     },
     "execution_count": 105,
     "metadata": {},
     "output_type": "execute_result"
    }
   ],
   "source": [
    "t2"
   ]
  },
  {
   "cell_type": "code",
   "execution_count": null,
   "id": "d62716f2",
   "metadata": {},
   "outputs": [],
   "source": [
    "#오... 간접적으로 바꿀 수 있다."
   ]
  },
  {
   "cell_type": "code",
   "execution_count": 106,
   "id": "f070549c",
   "metadata": {},
   "outputs": [],
   "source": [
    "t[2][0] += 9"
   ]
  },
  {
   "cell_type": "code",
   "execution_count": 107,
   "id": "b0d473e0",
   "metadata": {},
   "outputs": [
    {
     "data": {
      "text/plain": [
       "([77], 9, [86], 0.32, 'qi')"
      ]
     },
     "execution_count": 107,
     "metadata": {},
     "output_type": "execute_result"
    }
   ],
   "source": [
    "t # 실시간으로 값이 변경되는 상황에서만 가능함."
   ]
  },
  {
   "cell_type": "code",
   "execution_count": 111,
   "id": "58fa01a0",
   "metadata": {},
   "outputs": [],
   "source": [
    "2차원 리스트"
   ]
  },
  {
   "cell_type": "code",
   "execution_count": 113,
   "id": "160ddb0a",
   "metadata": {},
   "outputs": [],
   "source": [
    "l2 = [[1, 2, 3], [4, 5, 6], [7, 8, 9]]"
   ]
  },
  {
   "cell_type": "code",
   "execution_count": 114,
   "id": "83112dc1",
   "metadata": {},
   "outputs": [
    {
     "data": {
      "text/plain": [
       "[[1, 2, 3], [4, 5, 6], [7, 8, 9]]"
      ]
     },
     "execution_count": 114,
     "metadata": {},
     "output_type": "execute_result"
    }
   ],
   "source": [
    "l2"
   ]
  },
  {
   "cell_type": "code",
   "execution_count": 115,
   "id": "67fdb728",
   "metadata": {},
   "outputs": [
    {
     "name": "stdout",
     "output_type": "stream",
     "text": [
      "1 2 3\n",
      "4 5 6\n",
      "7 8 9\n"
     ]
    }
   ],
   "source": [
    "for i, j, k in l2:\n",
    "    print(i, j, k)"
   ]
  },
  {
   "cell_type": "code",
   "execution_count": 116,
   "id": "be3ae51e",
   "metadata": {},
   "outputs": [
    {
     "data": {
      "text/plain": [
       "[4, 5, 6]"
      ]
     },
     "execution_count": 116,
     "metadata": {},
     "output_type": "execute_result"
    }
   ],
   "source": [
    "l2[1]"
   ]
  },
  {
   "cell_type": "code",
   "execution_count": 117,
   "id": "2a383baf",
   "metadata": {},
   "outputs": [
    {
     "data": {
      "text/plain": [
       "6"
      ]
     },
     "execution_count": 117,
     "metadata": {},
     "output_type": "execute_result"
    }
   ],
   "source": [
    "l2[1][2]"
   ]
  },
  {
   "cell_type": "markdown",
   "id": "deb86e6f",
   "metadata": {},
   "source": [
    "## 실습) 2차원 리스트 이해하기\n",
    "* 가로 세로 8*8 크기의 2차원 리스트를 만든다.\n",
    "* (6, 2) 위치에 X라는 문자를 넣고,\n",
    "* (0, 0) 위치에 P라는 문자를 넣고,\n",
    "* (7, 7) 위치에 F라는 문자를 넣는다\n",
    "* 남은 공간은 O라는 문자를 넣는다."
   ]
  },
  {
   "cell_type": "code",
   "execution_count": 121,
   "id": "e75f3775",
   "metadata": {},
   "outputs": [],
   "source": [
    "l2 = [['P', 'O', 'O', 'O', 'O', 'O', 'O', 'O'], ['O', 'O', 'O', 'O', 'O', 'O', 'O', 'O'],\n",
    "      ['O', 'O', 'O', 'O', 'O', 'O', 'O', 'O'], ['O', 'O', 'O', 'O', 'O', 'O', 'O', 'O'],\n",
    "      ['O', 'O', 'O', 'O', 'O', 'O', 'O', 'O'], ['O', 'O', 'O', 'O', 'O', 'O', 'O', 'O'],\n",
    "      ['O', 'O', 'X', 'O', 'O', 'O', 'O', 'O'], ['O', 'O', 'O', 'O', 'O', 'O', 'O', 'F']]"
   ]
  },
  {
   "cell_type": "code",
   "execution_count": 122,
   "id": "382102fb",
   "metadata": {},
   "outputs": [
    {
     "data": {
      "text/plain": [
       "[['P', 'O', 'O', 'O', 'O', 'O', 'O', 'O'],\n",
       " ['O', 'O', 'O', 'O', 'O', 'O', 'O', 'O'],\n",
       " ['O', 'O', 'O', 'O', 'O', 'O', 'O', 'O'],\n",
       " ['O', 'O', 'O', 'O', 'O', 'O', 'O', 'O'],\n",
       " ['O', 'O', 'O', 'O', 'O', 'O', 'O', 'O'],\n",
       " ['O', 'O', 'O', 'O', 'O', 'O', 'O', 'O'],\n",
       " ['O', 'O', 'X', 'O', 'O', 'O', 'O', 'O'],\n",
       " ['O', 'O', 'O', 'O', 'O', 'O', 'O', 'F']]"
      ]
     },
     "execution_count": 122,
     "metadata": {},
     "output_type": "execute_result"
    }
   ],
   "source": [
    "l2"
   ]
  },
  {
   "cell_type": "markdown",
   "id": "9a3bb742",
   "metadata": {},
   "source": [
    "## 실습: 2차원 좌표 이해하기\n",
    "* l2리스트에서 다음과 같이 수정하기\n",
    "* (7, 1)좌표에서 Y 방향으로 1만큼 위로, X 방향으로 2만큼 왼쪽으로 이동한 지점의 값을 S로 바꾼다\n",
    "* 단, 값 변경은 인덱싱을 이용한다"
   ]
  },
  {
   "cell_type": "code",
   "execution_count": 127,
   "id": "0aac7309",
   "metadata": {},
   "outputs": [],
   "source": [
    "l2 = [['P', 'O', 'O', 'O', 'O', 'O', 'O', 'O'],\n",
    "      ['O', 'O', 'O', 'O', 'O', 'O', 'O', 'O'],\n",
    "      ['O', 'O', 'O', 'O', 'O', 'O', 'X', 'O'],\n",
    "      ['O', 'O', 'O', 'O', 'O', 'O', 'O', 'O'],\n",
    "      ['O', 'O', 'O', 'O', 'O', 'O', 'O', 'O'],\n",
    "      ['O', 'O', 'O', 'O', 'O', 'O', 'O', 'O'],\n",
    "      ['O', 'O', 'O', 'O', 'O', 'O', 'O', 'O'],\n",
    "      ['O', 'O', 'O', 'O', 'O', 'O', 'O', 'F']]"
   ]
  },
  {
   "cell_type": "code",
   "execution_count": 132,
   "id": "477368ed",
   "metadata": {},
   "outputs": [
    {
     "name": "stdout",
     "output_type": "stream",
     "text": [
      "['P', 'O', 'O', 'O', 'O', 'S', 'O', 'O']\n",
      "['O', 'O', 'O', 'O', 'O', 'O', 'O', 'O']\n",
      "['O', 'O', 'O', 'O', 'O', 'O', 'X', 'O']\n",
      "['O', 'O', 'O', 'O', 'O', 'O', 'O', 'O']\n",
      "['O', 'O', 'O', 'O', 'O', 'O', 'O', 'O']\n",
      "['O', 'O', 'O', 'O', 'O', 'O', 'O', 'O']\n",
      "['O', 'O', 'O', 'O', 'O', 'O', 'O', 'O']\n",
      "['O', 'O', 'O', 'O', 'O', 'O', 'O', 'F']\n"
     ]
    }
   ],
   "source": [
    "for i in l2:\n",
    "    print(i)"
   ]
  },
  {
   "cell_type": "code",
   "execution_count": 129,
   "id": "d19096e7",
   "metadata": {},
   "outputs": [],
   "source": [
    "l2[0][5] = 'S'\n",
    "l2[1-1][7-2] = 'S'#(7,1)좌표를 반대로 입력해야 됨."
   ]
  },
  {
   "cell_type": "code",
   "execution_count": 130,
   "id": "802ec49d",
   "metadata": {},
   "outputs": [
    {
     "data": {
      "text/plain": [
       "[['P', 'O', 'O', 'O', 'O', 'S', 'O', 'O'],\n",
       " ['O', 'O', 'O', 'O', 'O', 'O', 'O', 'O'],\n",
       " ['O', 'O', 'O', 'O', 'O', 'O', 'X', 'O'],\n",
       " ['O', 'O', 'O', 'O', 'O', 'O', 'O', 'O'],\n",
       " ['O', 'O', 'O', 'O', 'O', 'O', 'O', 'O'],\n",
       " ['O', 'O', 'O', 'O', 'O', 'O', 'O', 'O'],\n",
       " ['O', 'O', 'O', 'O', 'O', 'O', 'O', 'O'],\n",
       " ['O', 'O', 'O', 'O', 'O', 'O', 'O', 'F']]"
      ]
     },
     "execution_count": 130,
     "metadata": {},
     "output_type": "execute_result"
    }
   ],
   "source": [
    "l2"
   ]
  },
  {
   "cell_type": "code",
   "execution_count": 133,
   "id": "724a2ed4",
   "metadata": {},
   "outputs": [
    {
     "ename": "IndexError",
     "evalue": "list index out of range",
     "output_type": "error",
     "traceback": [
      "\u001b[1;31m---------------------------------------------------------------------------\u001b[0m",
      "\u001b[1;31mIndexError\u001b[0m                                Traceback (most recent call last)",
      "\u001b[1;32m~\\AppData\\Local\\Temp\\ipykernel_18036\\1626140695.py\u001b[0m in \u001b[0;36m<module>\u001b[1;34m\u001b[0m\n\u001b[0;32m      1\u001b[0m \u001b[1;31m# 리스트에서 오버플로시 선택지 설명하기\u001b[0m\u001b[1;33m\u001b[0m\u001b[1;33m\u001b[0m\u001b[0m\n\u001b[1;32m----> 2\u001b[1;33m \u001b[1;33m[\u001b[0m\u001b[1;36m1\u001b[0m\u001b[1;33m,\u001b[0m \u001b[1;36m2\u001b[0m\u001b[1;33m,\u001b[0m \u001b[1;36m3\u001b[0m\u001b[1;33m]\u001b[0m\u001b[1;33m[\u001b[0m\u001b[1;36m3\u001b[0m\u001b[1;33m]\u001b[0m\u001b[1;33m\u001b[0m\u001b[1;33m\u001b[0m\u001b[0m\n\u001b[0m",
      "\u001b[1;31mIndexError\u001b[0m: list index out of range"
     ]
    }
   ],
   "source": [
    "# 리스트에서 오버플로시 선택지 설명하기\n",
    "[1, 2, 3][3]"
   ]
  },
  {
   "cell_type": "markdown",
   "id": "66dca3ec",
   "metadata": {},
   "source": [
    "list index out of range 데이터가 리스트를 넘음."
   ]
  },
  {
   "cell_type": "code",
   "execution_count": 134,
   "id": "f12d1fd9",
   "metadata": {},
   "outputs": [
    {
     "data": {
      "text/plain": [
       "3"
      ]
     },
     "execution_count": 134,
     "metadata": {},
     "output_type": "execute_result"
    }
   ],
   "source": [
    "len([4, 6, 8])"
   ]
  },
  {
   "cell_type": "code",
   "execution_count": 135,
   "id": "52725f7d",
   "metadata": {},
   "outputs": [
    {
     "data": {
      "text/plain": [
       "8"
      ]
     },
     "execution_count": 135,
     "metadata": {},
     "output_type": "execute_result"
    }
   ],
   "source": [
    "len(l2)"
   ]
  },
  {
   "cell_type": "markdown",
   "id": "04f4912c",
   "metadata": {},
   "source": [
    "# 실습 : 리스트 크기 알아보기\n",
    "* 위 2차원 리스트에서, 전체 크기의 1/2 지점이 되는 x좌표, 전체 크기 -1 지점이 되는 y 좌표의 값을 'A'로 변경하라"
   ]
  },
  {
   "cell_type": "code",
   "execution_count": 137,
   "id": "63938552",
   "metadata": {},
   "outputs": [],
   "source": [
    "l2[len(l2)//2][len(l2)-1] = 'A' (4, 7)"
   ]
  },
  {
   "cell_type": "code",
   "execution_count": 138,
   "id": "3a1c3bcf",
   "metadata": {},
   "outputs": [
    {
     "data": {
      "text/plain": [
       "[['P', 'O', 'O', 'O', 'O', 'S', 'O', 'O'],\n",
       " ['O', 'O', 'O', 'O', 'O', 'O', 'O', 'O'],\n",
       " ['O', 'O', 'O', 'O', 'O', 'O', 'X', 'O'],\n",
       " ['O', 'O', 'O', 'O', 'O', 'O', 'O', 'O'],\n",
       " ['O', 'O', 'O', 'O', 'O', 'O', 'O', 'A'],\n",
       " ['O', 'O', 'O', 'O', 'O', 'O', 'O', 'O'],\n",
       " ['O', 'O', 'O', 'O', 'O', 'O', 'O', 'O'],\n",
       " ['O', 'O', 'O', 'O', 'O', 'O', 'O', 'F']]"
      ]
     },
     "execution_count": 138,
     "metadata": {},
     "output_type": "execute_result"
    }
   ],
   "source": [
    "l2"
   ]
  },
  {
   "cell_type": "code",
   "execution_count": 144,
   "id": "a11852d7",
   "metadata": {},
   "outputs": [],
   "source": [
    "l2[len(l2)-1][len(l2)//2] = 'A'"
   ]
  },
  {
   "cell_type": "code",
   "execution_count": 141,
   "id": "32e3bb2a",
   "metadata": {},
   "outputs": [
    {
     "data": {
      "text/plain": [
       "[['P', 'O', 'O', 'O', 'O', 'S', 'O', 'O'],\n",
       " ['O', 'O', 'O', 'O', 'O', 'O', 'O', 'O'],\n",
       " ['O', 'O', 'O', 'O', 'O', 'O', 'X', 'O'],\n",
       " ['O', 'O', 'O', 'O', 'O', 'O', 'O', 'O'],\n",
       " ['O', 'O', 'O', 'O', 'O', 'O', 'O', 'A'],\n",
       " ['O', 'O', 'O', 'O', 'O', 'O', 'O', 'O'],\n",
       " ['O', 'O', 'O', 'O', 'O', 'O', 'O', 'O'],\n",
       " ['O', 'O', 'O', 'O', 'A', 'O', 'O', 'F']]"
      ]
     },
     "execution_count": 141,
     "metadata": {},
     "output_type": "execute_result"
    }
   ],
   "source": [
    "l2"
   ]
  },
  {
   "cell_type": "code",
   "execution_count": 142,
   "id": "98700234",
   "metadata": {},
   "outputs": [
    {
     "data": {
      "text/plain": [
       "4"
      ]
     },
     "execution_count": 142,
     "metadata": {},
     "output_type": "execute_result"
    }
   ],
   "source": [
    "len(l2)//2"
   ]
  },
  {
   "cell_type": "code",
   "execution_count": 154,
   "id": "92470188",
   "metadata": {},
   "outputs": [
    {
     "data": {
      "text/plain": [
       "3.5"
      ]
     },
     "execution_count": 154,
     "metadata": {},
     "output_type": "execute_result"
    }
   ],
   "source": [
    "(len(l2[0]) - 1) / 2"
   ]
  },
  {
   "cell_type": "code",
   "execution_count": 155,
   "id": "c3843e3f",
   "metadata": {},
   "outputs": [
    {
     "data": {
      "text/plain": [
       "7"
      ]
     },
     "execution_count": 155,
     "metadata": {},
     "output_type": "execute_result"
    }
   ],
   "source": [
    "len(l2) - 1"
   ]
  },
  {
   "cell_type": "code",
   "execution_count": 156,
   "id": "159d50c9",
   "metadata": {},
   "outputs": [],
   "source": [
    "l2[7-1][3-1] = 'A' #0부터 시작하기 때문에 -1씩 깍아주기"
   ]
  },
  {
   "cell_type": "code",
   "execution_count": 157,
   "id": "0270b514",
   "metadata": {},
   "outputs": [
    {
     "data": {
      "text/plain": [
       "[['P', 'O', 'O', 'O', 'O', 'S', 'O', 'O'],\n",
       " ['O', 'O', 'O', 'O', 'O', 'O', 'O', 'O'],\n",
       " ['O', 'O', 'O', 'A', 'O', 'O', 'X', 'O'],\n",
       " ['O', 'O', 'O', 'O', 'O', 'O', 'O', 'O'],\n",
       " ['O', 'O', 'O', 'O', 'O', 'O', 'O', 'A'],\n",
       " ['O', 'O', 'O', 'O', 'O', 'O', 'O', 'O'],\n",
       " ['O', 'O', 'A', 'A', 'O', 'O', 'O', 'O'],\n",
       " ['O', 'O', 'O', 'O', 'A', 'O', 'O', 'F']]"
      ]
     },
     "execution_count": 157,
     "metadata": {},
     "output_type": "execute_result"
    }
   ],
   "source": [
    "l2"
   ]
  }
 ],
 "metadata": {
  "kernelspec": {
   "display_name": "Python 3 (ipykernel)",
   "language": "python",
   "name": "python3"
  },
  "language_info": {
   "codemirror_mode": {
    "name": "ipython",
    "version": 3
   },
   "file_extension": ".py",
   "mimetype": "text/x-python",
   "name": "python",
   "nbconvert_exporter": "python",
   "pygments_lexer": "ipython3",
   "version": "3.9.13"
  }
 },
 "nbformat": 4,
 "nbformat_minor": 5
}

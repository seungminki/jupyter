{
 "cells": [
  {
   "cell_type": "code",
   "execution_count": 1,
   "id": "70b41193",
   "metadata": {},
   "outputs": [
    {
     "data": {
      "text/plain": [
       "range(0, 10)"
      ]
     },
     "execution_count": 1,
     "metadata": {},
     "output_type": "execute_result"
    }
   ],
   "source": [
    "range(0, 10)"
   ]
  },
  {
   "cell_type": "code",
   "execution_count": null,
   "id": "dd7525d6",
   "metadata": {},
   "outputs": [],
   "source": [
    "# 반복문 (for)"
   ]
  },
  {
   "cell_type": "code",
   "execution_count": 2,
   "id": "b2a5f727",
   "metadata": {},
   "outputs": [
    {
     "data": {
      "text/plain": [
       "[0, 1, 2, 3, 4, 5, 6, 7, 8, 9]"
      ]
     },
     "execution_count": 2,
     "metadata": {},
     "output_type": "execute_result"
    }
   ],
   "source": [
    "list(range(0,10))"
   ]
  },
  {
   "cell_type": "code",
   "execution_count": 3,
   "id": "36bdd898",
   "metadata": {},
   "outputs": [
    {
     "data": {
      "text/plain": [
       "[10, 9, 8, 7, 6, 5, 4, 3, 2, 1]"
      ]
     },
     "execution_count": 3,
     "metadata": {},
     "output_type": "execute_result"
    }
   ],
   "source": [
    "list(range(10, 0, -1))"
   ]
  },
  {
   "cell_type": "code",
   "execution_count": 4,
   "id": "680b807f",
   "metadata": {},
   "outputs": [
    {
     "ename": "TypeError",
     "evalue": "'float' object cannot be interpreted as an integer",
     "output_type": "error",
     "traceback": [
      "\u001b[1;31m---------------------------------------------------------------------------\u001b[0m",
      "\u001b[1;31mTypeError\u001b[0m                                 Traceback (most recent call last)",
      "\u001b[1;32m~\\AppData\\Local\\Temp\\ipykernel_19248\\3372146220.py\u001b[0m in \u001b[0;36m<module>\u001b[1;34m\u001b[0m\n\u001b[1;32m----> 1\u001b[1;33m \u001b[0mlist\u001b[0m\u001b[1;33m(\u001b[0m\u001b[0mrange\u001b[0m\u001b[1;33m(\u001b[0m\u001b[1;36m0\u001b[0m\u001b[1;33m,\u001b[0m \u001b[1;36m5\u001b[0m\u001b[1;33m,\u001b[0m \u001b[1;36m1.1\u001b[0m\u001b[1;33m)\u001b[0m\u001b[1;33m)\u001b[0m\u001b[1;33m\u001b[0m\u001b[1;33m\u001b[0m\u001b[0m\n\u001b[0m\u001b[0;32m      2\u001b[0m \u001b[0mlist\u001b[0m\u001b[1;33m(\u001b[0m\u001b[0mrange\u001b[0m\u001b[1;33m(\u001b[0m\u001b[1;36m0\u001b[0m\u001b[1;33m,\u001b[0m \u001b[1;36m50\u001b[0m\u001b[1;33m,\u001b[0m \u001b[1;36m11\u001b[0m\u001b[1;33m)\u001b[0m\u001b[1;33m)\u001b[0m \u001b[1;31m#range는 실수형을 지원 안함.\u001b[0m\u001b[1;33m\u001b[0m\u001b[1;33m\u001b[0m\u001b[0m\n",
      "\u001b[1;31mTypeError\u001b[0m: 'float' object cannot be interpreted as an integer"
     ]
    }
   ],
   "source": [
    "list(range(0, 5, 1.1))\n",
    "list(range(0, 50, 11)) #range는 실수형을 지원 안함."
   ]
  },
  {
   "cell_type": "code",
   "execution_count": 5,
   "id": "02fc17c2",
   "metadata": {},
   "outputs": [
    {
     "data": {
      "text/plain": [
       "'1.3000000000000000444'"
      ]
     },
     "execution_count": 5,
     "metadata": {},
     "output_type": "execute_result"
    }
   ],
   "source": [
    "'%.19f' % (1.3)"
   ]
  },
  {
   "cell_type": "code",
   "execution_count": 6,
   "id": "f2f20328",
   "metadata": {},
   "outputs": [],
   "source": [
    "# 고정 소수점, 부동 소수점"
   ]
  },
  {
   "cell_type": "markdown",
   "id": "c6c6600c",
   "metadata": {},
   "source": [
    "고정소수점 = 0.100000000000...\n",
    "부동소수점 = 0.100000000096...\n",
    "파이썬은 연산 능력이 떨어지는 언어, 그래픽 카드에서 부동 소수점을 많이 이용함.\n",
    "부동 소수점을 이용한 에러 누적\n",
    "len이 소수를 지원하지 않는 이유\n",
    "에러가 많이 누적되면 정수값도 위협받을 수 있기 때문에 소수값을 받지 않음.\n",
    "정확하게 하고 싶다면 Decimal.package 패키지를 이용해서 고정 소수점을 이용하면 됨."
   ]
  },
  {
   "cell_type": "code",
   "execution_count": 17,
   "id": "0b43b9c5",
   "metadata": {},
   "outputs": [],
   "source": [
    "x = [1.9, 55, 963, 'hello', '49.7268']"
   ]
  },
  {
   "cell_type": "code",
   "execution_count": 18,
   "id": "03e38e05",
   "metadata": {},
   "outputs": [
    {
     "data": {
      "text/plain": [
       "True"
      ]
     },
     "execution_count": 18,
     "metadata": {},
     "output_type": "execute_result"
    }
   ],
   "source": [
    "'49.7268' in x #원하는 값이 리스트 안에 있는지 없는지 확인해주는 방법"
   ]
  },
  {
   "cell_type": "code",
   "execution_count": 9,
   "id": "11e8779c",
   "metadata": {},
   "outputs": [
    {
     "data": {
      "text/plain": [
       "False"
      ]
     },
     "execution_count": 9,
     "metadata": {},
     "output_type": "execute_result"
    }
   ],
   "source": [
    "'49' in x #부분일치는 안됨."
   ]
  },
  {
   "cell_type": "code",
   "execution_count": 12,
   "id": "3da081d1",
   "metadata": {},
   "outputs": [
    {
     "name": "stdout",
     "output_type": "stream",
     "text": [
      "0 1\n",
      "1 1\n",
      "2 1\n",
      "3 1\n",
      "4 1\n",
      "5 1\n",
      "6 1\n",
      "7 1\n",
      "8 1\n",
      "9 1\n"
     ]
    }
   ],
   "source": [
    "for i in range(10):\n",
    "    print(i, 1)"
   ]
  },
  {
   "cell_type": "code",
   "execution_count": null,
   "id": "601aeea7",
   "metadata": {},
   "outputs": [],
   "source": [
    "#현업에 가면 오류 관련 유형들을 많이 배울 수 있음."
   ]
  },
  {
   "cell_type": "code",
   "execution_count": 19,
   "id": "2554d66c",
   "metadata": {},
   "outputs": [
    {
     "name": "stdout",
     "output_type": "stream",
     "text": [
      "2\n",
      "4\n",
      "6\n",
      "8\n"
     ]
    }
   ],
   "source": [
    "for i in [2, 4, 6, 8]:\n",
    "    print(i)"
   ]
  },
  {
   "cell_type": "markdown",
   "id": "deea6758",
   "metadata": {},
   "source": [
    "파이썬은 객체 지향 프로그램 언어\n",
    "절차 지향 언어와 객체 지향 언어\n",
    "개체 =/= 객체"
   ]
  },
  {
   "cell_type": "code",
   "execution_count": 20,
   "id": "143f9882",
   "metadata": {},
   "outputs": [
    {
     "data": {
      "text/plain": [
       "[0, 1, 0, 1, 0, 1, 0, 1, 0, 1, 0, 1, 0, 1, 0, 1, 0, 1, 0, 1]"
      ]
     },
     "execution_count": 20,
     "metadata": {},
     "output_type": "execute_result"
    }
   ],
   "source": [
    "[i%2 for i in range(20)] #더럽대 끼약 개웃기다 #파이써닉(pythonic)\n",
    "# i가 20까지 갔을 때의 값을  2로 나눠서 나머지 값이 계속 나옴"
   ]
  },
  {
   "cell_type": "code",
   "execution_count": 22,
   "id": "904ddcba",
   "metadata": {},
   "outputs": [
    {
     "data": {
      "text/plain": [
       "[0, 1, 0, 1, 0, 1, 0, 1, 0, 1, 0, 1, 0, 1, 0, 1, 0, 1, 0, 1]"
      ]
     },
     "execution_count": 22,
     "metadata": {},
     "output_type": "execute_result"
    }
   ],
   "source": [
    "l = []\n",
    "\n",
    "for i in range(20):\n",
    "    l.append(i%2)\n",
    "    \n",
    "l"
   ]
  },
  {
   "cell_type": "code",
   "execution_count": null,
   "id": "61521cbf",
   "metadata": {},
   "outputs": [],
   "source": [
    "#파이썬은 싱글코어였네"
   ]
  },
  {
   "cell_type": "markdown",
   "id": "c1b54905",
   "metadata": {},
   "source": [
    "## 실습: 반복문 두 종류 사용해보기\n",
    "* 리스트 ABC를 사용한다.\n",
    "* ABC 리스트에는 다음 조건에 해당하는 값이 저장되어 있다.\n",
    "\n",
    "1. 7로 나누었을 때의 몫\n",
    "2. 범위는 20 ~100까지이며, 이 중에서 짝수는 제외된다\n",
    "\n",
    "* 가능하면 리스트 컴프리헨션(list comprehension)을 이용한 코드도 적어본다"
   ]
  },
  {
   "cell_type": "code",
   "execution_count": 31,
   "id": "aeac5316",
   "metadata": {},
   "outputs": [],
   "source": [
    "ABC = [i//7 for i in range(21, 100, 2)]\n",
    "ABC = [i//7 for i in range(21, 101) if i%2 != 0] # 전체가 리턴 값이기 때문에 포문 왼쪽에 있어야 한다는\n",
    "#컴프리 헨션 규칙에 따라 왼쪽으로 감"
   ]
  },
  {
   "cell_type": "code",
   "execution_count": 32,
   "id": "302ed282",
   "metadata": {},
   "outputs": [
    {
     "data": {
      "text/plain": [
       "[3,\n",
       " 3,\n",
       " 3,\n",
       " 3,\n",
       " 4,\n",
       " 4,\n",
       " 4,\n",
       " 5,\n",
       " 5,\n",
       " 5,\n",
       " 5,\n",
       " 6,\n",
       " 6,\n",
       " 6,\n",
       " 7,\n",
       " 7,\n",
       " 7,\n",
       " 7,\n",
       " 8,\n",
       " 8,\n",
       " 8,\n",
       " 9,\n",
       " 9,\n",
       " 9,\n",
       " 9,\n",
       " 10,\n",
       " 10,\n",
       " 10,\n",
       " 11,\n",
       " 11,\n",
       " 11,\n",
       " 11,\n",
       " 12,\n",
       " 12,\n",
       " 12,\n",
       " 13,\n",
       " 13,\n",
       " 13,\n",
       " 13]"
      ]
     },
     "execution_count": 32,
     "metadata": {},
     "output_type": "execute_result"
    }
   ],
   "source": [
    "ABC"
   ]
  },
  {
   "cell_type": "code",
   "execution_count": 33,
   "id": "79d68b21",
   "metadata": {},
   "outputs": [],
   "source": [
    "ABC = []"
   ]
  },
  {
   "cell_type": "code",
   "execution_count": 34,
   "id": "77f2cf49",
   "metadata": {},
   "outputs": [],
   "source": [
    "for i in range(21, 99, 2):\n",
    "    ABC.append(i//7)"
   ]
  },
  {
   "cell_type": "code",
   "execution_count": 35,
   "id": "e780be56",
   "metadata": {},
   "outputs": [
    {
     "data": {
      "text/plain": [
       "[3,\n",
       " 3,\n",
       " 3,\n",
       " 3,\n",
       " 4,\n",
       " 4,\n",
       " 4,\n",
       " 5,\n",
       " 5,\n",
       " 5,\n",
       " 5,\n",
       " 6,\n",
       " 6,\n",
       " 6,\n",
       " 7,\n",
       " 7,\n",
       " 7,\n",
       " 7,\n",
       " 8,\n",
       " 8,\n",
       " 8,\n",
       " 9,\n",
       " 9,\n",
       " 9,\n",
       " 9,\n",
       " 10,\n",
       " 10,\n",
       " 10,\n",
       " 11,\n",
       " 11,\n",
       " 11,\n",
       " 11,\n",
       " 12,\n",
       " 12,\n",
       " 12,\n",
       " 13,\n",
       " 13,\n",
       " 13,\n",
       " 13]"
      ]
     },
     "execution_count": 35,
     "metadata": {},
     "output_type": "execute_result"
    }
   ],
   "source": [
    "ABC"
   ]
  },
  {
   "cell_type": "code",
   "execution_count": 74,
   "id": "de7901b9",
   "metadata": {},
   "outputs": [
    {
     "name": "stdout",
     "output_type": "stream",
     "text": [
      "15\n",
      "짝수 2\n",
      "짝수 4\n",
      "짝수 6\n",
      "짝수 8\n",
      "짝수 10\n",
      "짝수 12\n",
      "짝수 14\n",
      "홀수 1\n",
      "1\n",
      "홀수 3\n",
      "6\n",
      "홀수 5\n",
      "15\n",
      "홀수 7\n",
      "28\n",
      "홀수 9\n",
      "45\n",
      "홀수 11\n",
      "66\n",
      "홀수 13\n",
      "91\n",
      "홀수 15\n",
      "120\n"
     ]
    }
   ],
   "source": [
    "x = int(input()) \n",
    "sum = 0       \n",
    "for i in range(2, x, 2):\n",
    "    print('짝수', i)\n",
    "    \n",
    "for j in range(1, x+1):\n",
    "    sum += j\n",
    "    if j % 2 != 0:\n",
    "        print('홀수', j)\n",
    "        print(sum)\n",
    "        "
   ]
  },
  {
   "cell_type": "markdown",
   "id": "1d2274e4",
   "metadata": {},
   "source": [
    "## 반복문 이용해보기\n",
    "* 숫자 하나를 입력 받으면 아래 계산을 하는 프로그램 만들기\n",
    "* 1부터 입력받은 숫자까지의 범위에서\n",
    "1. 짝수만 골라 출력한다.\n",
    "2. 홀수 인 경우, 해당 숫자 이하의 모든 범위의 숫자를 더한 값을 출력한다."
   ]
  },
  {
   "cell_type": "code",
   "execution_count": null,
   "id": "83e09688",
   "metadata": {},
   "outputs": [],
   "source": [
    "a = int(input(\"원하는 숫자를 입력하세요: \"))\n",
    "if a % 2 == 0:\n",
    "    print([i for i in range(2, a+1, 2)])\n",
    "else:\n",
    "    b = [i for i in range(1, a)]\n",
    "    print(b)\n",
    "    Sum = sum(b)\n",
    "    print(b)"
   ]
  },
  {
   "cell_type": "code",
   "execution_count": 79,
   "id": "fef7be01",
   "metadata": {},
   "outputs": [
    {
     "name": "stdout",
     "output_type": "stream",
     "text": [
      "숫자 하나를 입력: 15\n",
      "1 : 홀수값\n",
      "2 : 짝수값\n",
      "6 : 홀수값\n",
      "4 : 짝수값\n",
      "15 : 홀수값\n",
      "6 : 짝수값\n",
      "28 : 홀수값\n",
      "8 : 짝수값\n",
      "45 : 홀수값\n",
      "10 : 짝수값\n",
      "66 : 홀수값\n",
      "12 : 짝수값\n",
      "91 : 홀수값\n",
      "14 : 짝수값\n",
      "120 : 홀수값\n"
     ]
    }
   ],
   "source": [
    "# 숫자 하나를 입력받는 코드\n",
    "number_one = int(input('숫자 하나를 입력: '))\n",
    "for nm in range(1, number_one+1):\n",
    "    if nm % 2 == 0:\n",
    "        print(nm, ': 짝수값')\n",
    "        \n",
    "    elif nm % 2 != 0:\n",
    "        temp_nm = 0\n",
    "        \n",
    "        for sum_nm in range(1, nm+1):\n",
    "            temp_nm += sum_nm\n",
    "        \n",
    "        print(temp_nm, ': 홀수값')"
   ]
  },
  {
   "cell_type": "code",
   "execution_count": 80,
   "id": "de67ea1f",
   "metadata": {},
   "outputs": [],
   "source": [
    "# 코드를 정리하는 법\n",
    "# 코드 정리에 대한 파이썬 규약\n",
    "# return과 print의 차이 - 주피터와 다른 IDE\n",
    "# 기능하는 코드와 그걸 만드는 방법에 대한 이야기"
   ]
  },
  {
   "cell_type": "code",
   "execution_count": null,
   "id": "c429742b",
   "metadata": {},
   "outputs": [],
   "source": [
    "# 권장 사항, \n",
    "number_one = int(input('숫자 하나를 입력: '))\n",
    "for nm in range(1, number_one+1):\n",
    "    if nm % 2 == 0:\n",
    "        print(nm, ': 짝수값')\n",
    "        \n",
    "    elif nm % 2 != 0:\n",
    "        temp_nm = 0\n",
    "        \n",
    "        for sum_nm in range(1, nm+1):\n",
    "            temp_nm += sum_nm\n",
    "        \n",
    "        print(temp_nm, ': 홀수값')"
   ]
  }
 ],
 "metadata": {
  "kernelspec": {
   "display_name": "Python 3 (ipykernel)",
   "language": "python",
   "name": "python3"
  },
  "language_info": {
   "codemirror_mode": {
    "name": "ipython",
    "version": 3
   },
   "file_extension": ".py",
   "mimetype": "text/x-python",
   "name": "python",
   "nbconvert_exporter": "python",
   "pygments_lexer": "ipython3",
   "version": "3.9.13"
  }
 },
 "nbformat": 4,
 "nbformat_minor": 5
}

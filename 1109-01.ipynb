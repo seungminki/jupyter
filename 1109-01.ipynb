{
 "cells": [
  {
   "cell_type": "code",
   "execution_count": 5,
   "id": "20810310",
   "metadata": {},
   "outputs": [
    {
     "name": "stdout",
     "output_type": "stream",
     "text": [
      "1\n",
      "2\n",
      "3\n",
      "4\n",
      "5\n",
      "6\n",
      "7\n",
      "8\n",
      "9\n",
      "10\n",
      "1\n",
      "2\n",
      "3\n",
      "4\n",
      "5\n",
      "6\n",
      "7\n",
      "8\n",
      "9\n",
      "10\n",
      "1\n",
      "2\n",
      "3\n",
      "4\n",
      "5\n",
      "6\n",
      "7\n",
      "8\n",
      "9\n",
      "10\n"
     ]
    }
   ],
   "source": [
    "import time\n",
    "ind2 = 0\n",
    "while 1:\n",
    "    ind = 0\n",
    "    \n",
    "    while 1:\n",
    "        time.sleep(1)\n",
    "        ind += 1\n",
    "        print(ind)\n",
    "        \n",
    "        if ind == 10:\n",
    "            break\n",
    "            \n",
    "    if ind2 == 2:\n",
    "        break\n",
    "    else:\n",
    "        ind2 += 1 #0, 1, 2 돌아서 3바퀴 돔."
   ]
  },
  {
   "cell_type": "markdown",
   "id": "e7ff62cc",
   "metadata": {},
   "source": [
    "소프트웨어 배포 생명 주기\n",
    "소프트웨어는 아래와 같은 단계를 걸쳐 출시 및 배포를 진행한다고 합니다.\n",
    "\n",
    "개발단계\n",
    "1. 프리알파(pre-Alpha) : 이 단계는 실제 개발 이전 단계의 모든 활동을 말하며, 보통 프로토 타입까지의 단계를 얘기합니다.\n",
    "\n",
    "2. 알파(Alpha) : 프로토 타입 이후 실제 테스트를 시작하는 단계부터 어느정도 기능이 구현되는 단계의 유닛별 테스트를 보통 말합니다.\n",
    "이 단계에서는 일부 기능 별로 테스트하는 경우가 많으며 불완정한 소프트웨어입니다.\n",
    "\n",
    "3. 베타(Beta) : 알파 이후부터 소프트웨어 기능의 완성 전 단계를 말합니다. 베타 단계에서는 최적화가 안되어 있는 경우가 많아 많은 이슈가 발생되기도 합니다. \n",
    "\n",
    "4. 클로즈드 베타(Closed Beta) 테스트 / 오픈 베타(Open Beta) 테스트 : 베타 이후 단계의 테스트는 크게 두가지로 나뉘어지며, 이는 소프트웨어에서의 얘기이며, 오픈소스의 경우 베타 버전 릴리즈시 계속 테스트가 가능합니다.\n",
    "\n",
    "\n",
    "5. 최종 릴리즈 혹은 출시후보 - RC(Release Candidates) : RC가 여기에 해당하며 정식 출시전 마지막 베타를 보통 RC라고 지칭합니다.\n",
    "\n",
    "rc버전이 나왔다고하면 곧 출시 되는구나 생각하시면 됩니다. rc버전에서 크게 버그가 안 보일 경우 바로 출시 준비를 합니다.\n",
    "\n",
    "\n",
    "\n",
    "여기서 Nightly가 빠져있는데 Nightly는 매일매일 업데이트 및 수정되어 올라오는 버전입니다.\n",
    "\n",
    "즉 하루하루 발생되는 이슈나 업데이트 사항이 있어 빌드되어 배포되는 버전입니다.\n",
    "\n",
    "\n",
    "\n",
    "이러한 버전은 정식 버전보다 안정성은 떨어지겠지만 급한 경우에는 이러한 배포를 하는 경우도 있겠네요."
   ]
  },
  {
   "cell_type": "markdown",
   "id": "82a32a30",
   "metadata": {},
   "source": [
    "# 명령 프롬포트\n",
    "명령 프롬포트는 왼도우 95에서 커맨드를 직접적으로 명령하기 위해서 출시했습니다. MS-DOS라는 이름으로도 많이 기억됩니다. 왜냐하면 명령 프롬포트는 Command.com으로 시작되었고 DOS 명령을 디렉터리(DIR) 명령으로 실행하기 위해서나 인터넷 속도를 테스트하기 위해서 사용되기 때문이죠. 그 이후에 마이크로소프트는 나중에 Windows NT와 공식적인 명령 프롬포트를 출시하면서 명령 프롬포트로 알려지기 시작했습니다.\n",
    "\n",
    "사용자들은 명령 프롬포트를 사용해서 기본 파일 시스템 및 시스템 명령을 실행해서 발생하는 오류를 해결할 수 있게 되었습니다. 명령 프롬포트를 이용해서 디스크 파티션, 포맷, 관리와 같은 작업을 시스템 관리자가 수행했습니다. 또한 사용자와 시스템 모두에서 디렉터리 파일을 보거나 관리하도록 사용되었지요. 왜냐하면 시스템 파일을 엑세스 할 수 있었기 때문에 다양한 오류를 직접 해결할 수 있었습니다. 손상된 파일을 직접 수정할 수 있었으니깐요.\n",
    "\n",
    "# 파워셀(Windows PowerShell)\n"
   ]
  },
  {
   "cell_type": "code",
   "execution_count": null,
   "id": "e8627f6a",
   "metadata": {},
   "outputs": [],
   "source": [
    "def(함수이름)(input):\n",
    "    (연산 등의 코드)\n",
    "    return (리턴값)\n",
    "# 위 요소 중 첫번째 줄만 갖추면 내부에 어떤 코드를 입력해도 무관함."
   ]
  },
  {
   "cell_type": "markdown",
   "id": "c46bd920",
   "metadata": {},
   "source": [
    "# 함수의 기본 구조\n",
    "\n",
    "* 연산을 하는 함수"
   ]
  },
  {
   "cell_type": "code",
   "execution_count": null,
   "id": "50bedd48",
   "metadata": {},
   "outputs": [],
   "source": [
    "def fun1(x, y): # x, y를 입력받음\n",
    "    z = x % y # 연산 1\n",
    "    w = x = y # 연산 2\n",
    "    if z > w : # 조건에 따라 다른 리턴\n",
    "        return 'type 1'\n",
    "    else:\n",
    "        return 'type 2'"
   ]
  },
  {
   "cell_type": "code",
   "execution_count": 8,
   "id": "b34204da",
   "metadata": {},
   "outputs": [],
   "source": [
    "def func1(x):\n",
    "    if x == 1:\n",
    "        return 'function 1'\n",
    "    else:\n",
    "        \n",
    "        return 'function 2'\n",
    "# x = 지역변수"
   ]
  },
  {
   "cell_type": "code",
   "execution_count": 9,
   "id": "004c5cd8",
   "metadata": {},
   "outputs": [
    {
     "name": "stdout",
     "output_type": "stream",
     "text": [
      "function 1\n"
     ]
    }
   ],
   "source": [
    "x = 10\n",
    "a = 1\n",
    "print(func1(a))\n",
    "# x = 전역변수"
   ]
  },
  {
   "cell_type": "code",
   "execution_count": 6,
   "id": "d45dcead",
   "metadata": {},
   "outputs": [
    {
     "data": {
      "text/plain": [
       "10"
      ]
     },
     "execution_count": 6,
     "metadata": {},
     "output_type": "execute_result"
    }
   ],
   "source": [
    "x"
   ]
  },
  {
   "cell_type": "code",
   "execution_count": 10,
   "id": "9db39d3b",
   "metadata": {},
   "outputs": [
    {
     "ename": "NameError",
     "evalue": "name 'math' is not defined",
     "output_type": "error",
     "traceback": [
      "\u001b[1;31m---------------------------------------------------------------------------\u001b[0m",
      "\u001b[1;31mNameError\u001b[0m                                 Traceback (most recent call last)",
      "\u001b[1;32m~\\AppData\\Local\\Temp\\ipykernel_21132\\2145828114.py\u001b[0m in \u001b[0;36m<module>\u001b[1;34m\u001b[0m\n\u001b[1;32m----> 1\u001b[1;33m \u001b[0mmath\u001b[0m\u001b[1;33m.\u001b[0m\u001b[0msqrt\u001b[0m\u001b[1;33m(\u001b[0m\u001b[1;36m10\u001b[0m\u001b[1;33m)\u001b[0m\u001b[1;33m\u001b[0m\u001b[1;33m\u001b[0m\u001b[0m\n\u001b[0m",
      "\u001b[1;31mNameError\u001b[0m: name 'math' is not defined"
     ]
    }
   ],
   "source": [
    "math.sqrt(10)"
   ]
  },
  {
   "cell_type": "code",
   "execution_count": 11,
   "id": "1054dc8a",
   "metadata": {},
   "outputs": [],
   "source": [
    "def func2(input1):\n",
    "    input3 = input1 + input2\n",
    "    \n",
    "    return input3"
   ]
  },
  {
   "cell_type": "code",
   "execution_count": 12,
   "id": "d11124bb",
   "metadata": {},
   "outputs": [],
   "source": [
    "input2 = 384"
   ]
  },
  {
   "cell_type": "code",
   "execution_count": 13,
   "id": "48bb4d89",
   "metadata": {},
   "outputs": [
    {
     "data": {
      "text/plain": [
       "1152"
      ]
     },
     "execution_count": 13,
     "metadata": {},
     "output_type": "execute_result"
    }
   ],
   "source": [
    "func2(768) # 값이 밖에서 바꿀 수는 없는데 넣을 수는 있음."
   ]
  },
  {
   "cell_type": "code",
   "execution_count": 32,
   "id": "551f2928",
   "metadata": {},
   "outputs": [],
   "source": [
    "def func2(input1):\n",
    "    input3 = input1 + input2\n",
    "    input2 += 5\n",
    "    \n",
    "    return input3"
   ]
  },
  {
   "cell_type": "code",
   "execution_count": 33,
   "id": "85e4b98a",
   "metadata": {},
   "outputs": [],
   "source": [
    "input2 = 384 # 전역변수 수정 시도, 파이썬은 전역 변수 수정 시도를 지원하지 않음\n",
    "# 전역변수가 이미 있는데 지역변수가 그걸 바꾸지 못해서 일어나는 오류"
   ]
  },
  {
   "cell_type": "code",
   "execution_count": 34,
   "id": "2bd41c4a",
   "metadata": {},
   "outputs": [
    {
     "ename": "UnboundLocalError",
     "evalue": "local variable 'input2' referenced before assignment",
     "output_type": "error",
     "traceback": [
      "\u001b[1;31m---------------------------------------------------------------------------\u001b[0m",
      "\u001b[1;31mUnboundLocalError\u001b[0m                         Traceback (most recent call last)",
      "\u001b[1;32m~\\AppData\\Local\\Temp\\ipykernel_21132\\3168695530.py\u001b[0m in \u001b[0;36m<module>\u001b[1;34m\u001b[0m\n\u001b[1;32m----> 1\u001b[1;33m \u001b[0mfunc2\u001b[0m\u001b[1;33m(\u001b[0m\u001b[1;36m768\u001b[0m\u001b[1;33m)\u001b[0m\u001b[1;33m\u001b[0m\u001b[1;33m\u001b[0m\u001b[0m\n\u001b[0m",
      "\u001b[1;32m~\\AppData\\Local\\Temp\\ipykernel_21132\\795958838.py\u001b[0m in \u001b[0;36mfunc2\u001b[1;34m(input1)\u001b[0m\n\u001b[0;32m      1\u001b[0m \u001b[1;32mdef\u001b[0m \u001b[0mfunc2\u001b[0m\u001b[1;33m(\u001b[0m\u001b[0minput1\u001b[0m\u001b[1;33m)\u001b[0m\u001b[1;33m:\u001b[0m\u001b[1;33m\u001b[0m\u001b[1;33m\u001b[0m\u001b[0m\n\u001b[1;32m----> 2\u001b[1;33m     \u001b[0minput3\u001b[0m \u001b[1;33m=\u001b[0m \u001b[0minput1\u001b[0m \u001b[1;33m+\u001b[0m \u001b[0minput2\u001b[0m\u001b[1;33m\u001b[0m\u001b[1;33m\u001b[0m\u001b[0m\n\u001b[0m\u001b[0;32m      3\u001b[0m     \u001b[0minput2\u001b[0m \u001b[1;33m+=\u001b[0m \u001b[1;36m5\u001b[0m\u001b[1;33m\u001b[0m\u001b[1;33m\u001b[0m\u001b[0m\n\u001b[0;32m      4\u001b[0m \u001b[1;33m\u001b[0m\u001b[0m\n\u001b[0;32m      5\u001b[0m     \u001b[1;32mreturn\u001b[0m \u001b[0minput3\u001b[0m\u001b[1;33m\u001b[0m\u001b[1;33m\u001b[0m\u001b[0m\n",
      "\u001b[1;31mUnboundLocalError\u001b[0m: local variable 'input2' referenced before assignment"
     ]
    }
   ],
   "source": [
    "func2(768)"
   ]
  },
  {
   "cell_type": "markdown",
   "id": "3555db75",
   "metadata": {},
   "source": [
    "1. 오류가 나는 이유 (함수의 정의에 관련된)\n",
    "2. 수정할 수 있는 방법\n",
    "* local variable 'input2' referenced before assignment\n",
    "* =내가 쓰기 전에 이미 선언이 되었다."
   ]
  },
  {
   "cell_type": "code",
   "execution_count": 39,
   "id": "4734170a",
   "metadata": {},
   "outputs": [],
   "source": [
    "def func2(input1):\n",
    "    input2 = 999\n",
    "    input3 = input1 + input2\n",
    "    input2 += 5\n",
    "    \n",
    "    return input3 # input3값이 먼저 나왔기 때문에 변하지 않음."
   ]
  },
  {
   "cell_type": "code",
   "execution_count": 40,
   "id": "bf7333f8",
   "metadata": {},
   "outputs": [],
   "source": [
    "input2 = 384"
   ]
  },
  {
   "cell_type": "code",
   "execution_count": 41,
   "id": "95ab8de7",
   "metadata": {},
   "outputs": [
    {
     "data": {
      "text/plain": [
       "1767"
      ]
     },
     "execution_count": 41,
     "metadata": {},
     "output_type": "execute_result"
    }
   ],
   "source": [
    "func2(768) # 전역변수가 먼저, "
   ]
  },
  {
   "cell_type": "code",
   "execution_count": 42,
   "id": "e534b81a",
   "metadata": {},
   "outputs": [
    {
     "data": {
      "text/plain": [
       "384"
      ]
     },
     "execution_count": 42,
     "metadata": {},
     "output_type": "execute_result"
    }
   ],
   "source": [
    "input2 # 함수안에서의 inpu2값은 999지만 함수 바깥 inpur2값은 384임."
   ]
  },
  {
   "cell_type": "code",
   "execution_count": 36,
   "id": "b1b00266",
   "metadata": {},
   "outputs": [],
   "source": [
    "def func2(input1):\n",
    "    global input2 # 전역 변수로 바뀌주는 코드\n",
    "    \n",
    "    input3 = input1 + input2\n",
    "    input2 += 5\n",
    "    \n",
    "    return input3"
   ]
  },
  {
   "cell_type": "code",
   "execution_count": 37,
   "id": "f6a10627",
   "metadata": {},
   "outputs": [],
   "source": [
    "input2 = 384 # 지역 변수 처럼 보이지만 사실 전역 변수를 수정함."
   ]
  },
  {
   "cell_type": "code",
   "execution_count": 38,
   "id": "aa589e91",
   "metadata": {},
   "outputs": [
    {
     "data": {
      "text/plain": [
       "1152"
      ]
     },
     "execution_count": 38,
     "metadata": {},
     "output_type": "execute_result"
    }
   ],
   "source": [
    "func2(768)"
   ]
  },
  {
   "cell_type": "markdown",
   "id": "dc0f665f",
   "metadata": {},
   "source": [
    "# 실습: 함수를 이용한 반복문\n",
    "* fun3 함수를 만든다.\n",
    "* 해당 함수는 입력된 수의 제곱을 각각 리턴한다\n",
    "* 1~10 범위에서 해당 연산을 반복하고 출력하도록 구성한다"
   ]
  },
  {
   "cell_type": "code",
   "execution_count": 50,
   "id": "7da66888",
   "metadata": {},
   "outputs": [],
   "source": [
    "def fun3(a):\n",
    "    b = a**2\n",
    "    return b"
   ]
  },
  {
   "cell_type": "code",
   "execution_count": 55,
   "id": "2719d0f1",
   "metadata": {},
   "outputs": [
    {
     "name": "stdout",
     "output_type": "stream",
     "text": [
      "2\n",
      "3\n",
      "4 9\n",
      "4 9\n",
      "4 9\n",
      "4 9\n",
      "4 9\n",
      "4 9\n",
      "4 9\n",
      "4 9\n",
      "4 9\n",
      "4 9\n"
     ]
    }
   ],
   "source": [
    "x = int(input())\n",
    "y = int(input())\n",
    "for i in range (10):\n",
    "    print(fun3(x), fun3(y))"
   ]
  },
  {
   "cell_type": "code",
   "execution_count": 56,
   "id": "241670fc",
   "metadata": {},
   "outputs": [
    {
     "name": "stdout",
     "output_type": "stream",
     "text": [
      "2\n",
      "3\n",
      "(4, 9)\n",
      "(4, 9)\n",
      "(4, 9)\n",
      "(4, 9)\n",
      "(4, 9)\n",
      "(4, 9)\n",
      "(4, 9)\n",
      "(4, 9)\n",
      "(4, 9)\n",
      "(4, 9)\n"
     ]
    }
   ],
   "source": [
    "def sq(a, b):\n",
    "    return a**2, b**2\n",
    "\n",
    "a = int(input())\n",
    "b = int(input())\n",
    "\n",
    "for i in range(10):\n",
    "    print(sq(a, b))"
   ]
  },
  {
   "cell_type": "code",
   "execution_count": null,
   "id": "59dca9d5",
   "metadata": {},
   "outputs": [],
   "source": [
    "# 공백 기준으로 정수형 입력받는 법\n",
    "a, b = input().split()\n",
    "print(int(a) + int(b))\n",
    "\n",
    "a, b = map(int, input().split())\n",
    "print(a+b)"
   ]
  },
  {
   "cell_type": "code",
   "execution_count": 59,
   "id": "d404daa0",
   "metadata": {},
   "outputs": [
    {
     "ename": "NameError",
     "evalue": "name 'numberA' is not defined",
     "output_type": "error",
     "traceback": [
      "\u001b[1;31m---------------------------------------------------------------------------\u001b[0m",
      "\u001b[1;31mNameError\u001b[0m                                 Traceback (most recent call last)",
      "\u001b[1;32m~\\AppData\\Local\\Temp\\ipykernel_21132\\2639816434.py\u001b[0m in \u001b[0;36m<module>\u001b[1;34m\u001b[0m\n\u001b[1;32m----> 1\u001b[1;33m \u001b[0mnumberA\u001b[0m\u001b[1;33m\u001b[0m\u001b[1;33m\u001b[0m\u001b[0m\n\u001b[0m",
      "\u001b[1;31mNameError\u001b[0m: name 'numberA' is not defined"
     ]
    }
   ],
   "source": [
    "numberA"
   ]
  },
  {
   "cell_type": "code",
   "execution_count": 62,
   "id": "02f0bc6d",
   "metadata": {},
   "outputs": [],
   "source": [
    "def func_ex():\n",
    "    print(numberA, numberB) # 함수 선언을 할 때에는 실행을 안하기 때문에 논리적으로 문제되는 것은 에러가 뜨지 않음.\n",
    "    # 하지만 구조적, 문법적으로 틀린 코드는 에러를 잡음.\n",
    "    'hi' / 2 - 123\n",
    "    # 에러의 우선 순위에 따른 규칙"
   ]
  },
  {
   "cell_type": "code",
   "execution_count": 58,
   "id": "d411478b",
   "metadata": {},
   "outputs": [
    {
     "ename": "NameError",
     "evalue": "name 'numberA' is not defined",
     "output_type": "error",
     "traceback": [
      "\u001b[1;31m---------------------------------------------------------------------------\u001b[0m",
      "\u001b[1;31mNameError\u001b[0m                                 Traceback (most recent call last)",
      "\u001b[1;32m~\\AppData\\Local\\Temp\\ipykernel_21132\\3877377447.py\u001b[0m in \u001b[0;36m<module>\u001b[1;34m\u001b[0m\n\u001b[1;32m----> 1\u001b[1;33m \u001b[0mfunc_ex\u001b[0m\u001b[1;33m(\u001b[0m\u001b[1;33m)\u001b[0m\u001b[1;33m\u001b[0m\u001b[1;33m\u001b[0m\u001b[0m\n\u001b[0m",
      "\u001b[1;32m~\\AppData\\Local\\Temp\\ipykernel_21132\\477882793.py\u001b[0m in \u001b[0;36mfunc_ex\u001b[1;34m()\u001b[0m\n\u001b[0;32m      1\u001b[0m \u001b[1;32mdef\u001b[0m \u001b[0mfunc_ex\u001b[0m\u001b[1;33m(\u001b[0m\u001b[1;33m)\u001b[0m\u001b[1;33m:\u001b[0m\u001b[1;33m\u001b[0m\u001b[1;33m\u001b[0m\u001b[0m\n\u001b[1;32m----> 2\u001b[1;33m     \u001b[0mprint\u001b[0m\u001b[1;33m(\u001b[0m\u001b[0mnumberA\u001b[0m\u001b[1;33m,\u001b[0m \u001b[0mnumberB\u001b[0m\u001b[1;33m)\u001b[0m\u001b[1;33m\u001b[0m\u001b[1;33m\u001b[0m\u001b[0m\n\u001b[0m",
      "\u001b[1;31mNameError\u001b[0m: name 'numberA' is not defined"
     ]
    }
   ],
   "source": [
    "func_ex()"
   ]
  },
  {
   "cell_type": "code",
   "execution_count": 63,
   "id": "55e2154c",
   "metadata": {},
   "outputs": [],
   "source": [
    "def func1(x):\n",
    "    return x"
   ]
  },
  {
   "cell_type": "code",
   "execution_count": 64,
   "id": "818be6a8",
   "metadata": {},
   "outputs": [],
   "source": [
    "def func2(y):\n",
    "    return y"
   ]
  },
  {
   "cell_type": "code",
   "execution_count": 65,
   "id": "fa93274c",
   "metadata": {},
   "outputs": [],
   "source": [
    "def func3(x):\n",
    "    def func4(x): # 지역변수 취급\n",
    "        return x"
   ]
  },
  {
   "cell_type": "code",
   "execution_count": 66,
   "id": "ab28a429",
   "metadata": {},
   "outputs": [
    {
     "data": {
      "text/plain": [
       "1"
      ]
     },
     "execution_count": 66,
     "metadata": {},
     "output_type": "execute_result"
    }
   ],
   "source": [
    "func1(1)"
   ]
  },
  {
   "cell_type": "code",
   "execution_count": 68,
   "id": "5c27cdf3",
   "metadata": {},
   "outputs": [
    {
     "data": {
      "text/plain": [
       "2"
      ]
     },
     "execution_count": 68,
     "metadata": {},
     "output_type": "execute_result"
    }
   ],
   "source": [
    "func2(2)"
   ]
  },
  {
   "cell_type": "code",
   "execution_count": 69,
   "id": "f34aa495",
   "metadata": {},
   "outputs": [],
   "source": [
    "func3(3)"
   ]
  },
  {
   "cell_type": "code",
   "execution_count": 70,
   "id": "10e709dd",
   "metadata": {},
   "outputs": [
    {
     "ename": "NameError",
     "evalue": "name 'func4' is not defined",
     "output_type": "error",
     "traceback": [
      "\u001b[1;31m---------------------------------------------------------------------------\u001b[0m",
      "\u001b[1;31mNameError\u001b[0m                                 Traceback (most recent call last)",
      "\u001b[1;32m~\\AppData\\Local\\Temp\\ipykernel_21132\\816144451.py\u001b[0m in \u001b[0;36m<module>\u001b[1;34m\u001b[0m\n\u001b[1;32m----> 1\u001b[1;33m \u001b[0mfunc4\u001b[0m\u001b[1;33m(\u001b[0m\u001b[1;36m4\u001b[0m\u001b[1;33m)\u001b[0m\u001b[1;33m\u001b[0m\u001b[1;33m\u001b[0m\u001b[0m\n\u001b[0m",
      "\u001b[1;31mNameError\u001b[0m: name 'func4' is not defined"
     ]
    }
   ],
   "source": [
    "func4(4)"
   ]
  },
  {
   "cell_type": "code",
   "execution_count": 79,
   "id": "77971867",
   "metadata": {},
   "outputs": [],
   "source": [
    "def func3(x):\n",
    "    def func4(x):\n",
    "        return x\n",
    "    func4(x) # not return func4(x)\n",
    "# 함수 안에서만 나온 결과값은 함수 안에만 있음.\n",
    "# 함수는 중첩되지 않음.\n",
    "# 함수안에 있는 지역변수를 다른 함수 지역변수로 쓰지 못함."
   ]
  },
  {
   "cell_type": "code",
   "execution_count": 80,
   "id": "bbc40823",
   "metadata": {},
   "outputs": [],
   "source": [
    "func3(3)"
   ]
  },
  {
   "cell_type": "code",
   "execution_count": 77,
   "id": "2af81381",
   "metadata": {},
   "outputs": [],
   "source": [
    "def func5(x):\n",
    "    return func1(x)"
   ]
  },
  {
   "cell_type": "code",
   "execution_count": 78,
   "id": "f2ec7e42",
   "metadata": {},
   "outputs": [
    {
     "data": {
      "text/plain": [
       "5"
      ]
     },
     "execution_count": 78,
     "metadata": {},
     "output_type": "execute_result"
    }
   ],
   "source": [
    "func5(5)"
   ]
  },
  {
   "cell_type": "markdown",
   "id": "b75887f7",
   "metadata": {},
   "source": [
    "---"
   ]
  },
  {
   "cell_type": "code",
   "execution_count": 116,
   "id": "44d6ccc0",
   "metadata": {},
   "outputs": [],
   "source": [
    "def sum_all(x, y, z, w):\n",
    "    sum_1 = x + y # 1+ 2\n",
    "    sum_2 = sum_1 + z # 3 + 3\n",
    "    sum_3 = sum_1 + z # 3 + 3\n",
    "    sum_4 = sum_3 + sum_2 + sum_1 # 6 + 6 + 3\n",
    "    \n",
    "    sum_5 = 0\n",
    "    for i in range(w):\n",
    "        sum_5 += sum_4 # 15\n",
    "        \n",
    "    return sum_5 "
   ]
  },
  {
   "cell_type": "code",
   "execution_count": 117,
   "id": "dda06851",
   "metadata": {},
   "outputs": [
    {
     "data": {
      "text/plain": [
       "60"
      ]
     },
     "execution_count": 117,
     "metadata": {},
     "output_type": "execute_result"
    }
   ],
   "source": [
    "sum_all(1, 2, 3, 4)"
   ]
  },
  {
   "cell_type": "code",
   "execution_count": 128,
   "id": "e35d731f",
   "metadata": {},
   "outputs": [],
   "source": [
    "def for_loop(x, y):\n",
    "    res = 0\n",
    "    \n",
    "    for i in range(x):\n",
    "        res += x # x**2\n",
    "        print(res, '1')\n",
    "        \n",
    "        for j in range(y):\n",
    "            res -= j\n",
    "            print(res, '2')\n",
    "            \n",
    "    return res"
   ]
  },
  {
   "cell_type": "code",
   "execution_count": 129,
   "id": "10ac7ea5",
   "metadata": {},
   "outputs": [
    {
     "name": "stdout",
     "output_type": "stream",
     "text": [
      "60 1\n",
      "60 2\n",
      "120 1\n",
      "120 2\n",
      "180 1\n",
      "180 2\n",
      "240 1\n",
      "240 2\n",
      "300 1\n",
      "300 2\n",
      "360 1\n",
      "360 2\n",
      "420 1\n",
      "420 2\n",
      "480 1\n",
      "480 2\n",
      "540 1\n",
      "540 2\n",
      "600 1\n",
      "600 2\n",
      "660 1\n",
      "660 2\n",
      "720 1\n",
      "720 2\n",
      "780 1\n",
      "780 2\n",
      "840 1\n",
      "840 2\n",
      "900 1\n",
      "900 2\n",
      "960 1\n",
      "960 2\n",
      "1020 1\n",
      "1020 2\n",
      "1080 1\n",
      "1080 2\n",
      "1140 1\n",
      "1140 2\n",
      "1200 1\n",
      "1200 2\n",
      "1260 1\n",
      "1260 2\n",
      "1320 1\n",
      "1320 2\n",
      "1380 1\n",
      "1380 2\n",
      "1440 1\n",
      "1440 2\n",
      "1500 1\n",
      "1500 2\n",
      "1560 1\n",
      "1560 2\n",
      "1620 1\n",
      "1620 2\n",
      "1680 1\n",
      "1680 2\n",
      "1740 1\n",
      "1740 2\n",
      "1800 1\n",
      "1800 2\n",
      "1860 1\n",
      "1860 2\n",
      "1920 1\n",
      "1920 2\n",
      "1980 1\n",
      "1980 2\n",
      "2040 1\n",
      "2040 2\n",
      "2100 1\n",
      "2100 2\n",
      "2160 1\n",
      "2160 2\n",
      "2220 1\n",
      "2220 2\n",
      "2280 1\n",
      "2280 2\n",
      "2340 1\n",
      "2340 2\n",
      "2400 1\n",
      "2400 2\n",
      "2460 1\n",
      "2460 2\n",
      "2520 1\n",
      "2520 2\n",
      "2580 1\n",
      "2580 2\n",
      "2640 1\n",
      "2640 2\n",
      "2700 1\n",
      "2700 2\n",
      "2760 1\n",
      "2760 2\n",
      "2820 1\n",
      "2820 2\n",
      "2880 1\n",
      "2880 2\n",
      "2940 1\n",
      "2940 2\n",
      "3000 1\n",
      "3000 2\n",
      "3060 1\n",
      "3060 2\n",
      "3120 1\n",
      "3120 2\n",
      "3180 1\n",
      "3180 2\n",
      "3240 1\n",
      "3240 2\n",
      "3300 1\n",
      "3300 2\n",
      "3360 1\n",
      "3360 2\n",
      "3420 1\n",
      "3420 2\n",
      "3480 1\n",
      "3480 2\n",
      "3540 1\n",
      "3540 2\n",
      "3600 1\n",
      "3600 2\n"
     ]
    },
    {
     "data": {
      "text/plain": [
       "3600"
      ]
     },
     "execution_count": 129,
     "metadata": {},
     "output_type": "execute_result"
    }
   ],
   "source": [
    "for_loop(60, 1)"
   ]
  },
  {
   "cell_type": "code",
   "execution_count": 119,
   "id": "3b3b41af",
   "metadata": {},
   "outputs": [],
   "source": [
    "def list_return(x, y, z, w):\n",
    "    return [i+x+z for i in range(w)]"
   ]
  },
  {
   "cell_type": "code",
   "execution_count": 120,
   "id": "e63ab636",
   "metadata": {},
   "outputs": [
    {
     "name": "stdout",
     "output_type": "stream",
     "text": [
      "number 1: 1\n",
      "number 2: 2\n",
      "number 3: 3\n",
      "number 4: 4\n"
     ]
    }
   ],
   "source": [
    "x = int(input('number 1: '))\n",
    "y = int(input('number 2: '))\n",
    "z = int(input('number 3: '))\n",
    "w = int(input('number 4: '))"
   ]
  },
  {
   "cell_type": "code",
   "execution_count": 121,
   "id": "e914791b",
   "metadata": {},
   "outputs": [],
   "source": [
    "num1_res = sum_all(x, y, z, w) # 60"
   ]
  },
  {
   "cell_type": "code",
   "execution_count": 122,
   "id": "98938f95",
   "metadata": {},
   "outputs": [],
   "source": [
    "num2_res = for_loop(num1_res, x) # 3600"
   ]
  },
  {
   "cell_type": "code",
   "execution_count": 123,
   "id": "fcf7106b",
   "metadata": {},
   "outputs": [],
   "source": [
    "num3_res = list_return(num1_res, num2_res, z, w) # 60, 3600, 3, 4"
   ]
  },
  {
   "cell_type": "code",
   "execution_count": 124,
   "id": "c6653e81",
   "metadata": {},
   "outputs": [
    {
     "data": {
      "text/plain": [
       "[63, 64, 65, 66]"
      ]
     },
     "execution_count": 124,
     "metadata": {},
     "output_type": "execute_result"
    }
   ],
   "source": [
    "num3_res"
   ]
  },
  {
   "cell_type": "code",
   "execution_count": 126,
   "id": "0e11342b",
   "metadata": {},
   "outputs": [
    {
     "data": {
      "text/plain": [
       "[63, 64, 65, 66]"
      ]
     },
     "execution_count": 126,
     "metadata": {},
     "output_type": "execute_result"
    }
   ],
   "source": [
    "list_return(60, 3600, 3, 4)"
   ]
  },
  {
   "cell_type": "markdown",
   "id": "31470d08",
   "metadata": {},
   "source": [
    "---"
   ]
  },
  {
   "cell_type": "code",
   "execution_count": 133,
   "id": "b8a6edb7",
   "metadata": {},
   "outputs": [],
   "source": [
    "def for_loop(x, y):\n",
    "    res = 0\n",
    "    \n",
    "    for i in range(x):\n",
    "        res += x # x**2\n",
    "        print(res, i,'1')\n",
    "        \n",
    "        for j in range(y):\n",
    "            res -= j\n",
    "            print(res, j, '2')\n",
    "            \n",
    "    return res"
   ]
  },
  {
   "cell_type": "code",
   "execution_count": 134,
   "id": "54d87d8c",
   "metadata": {},
   "outputs": [
    {
     "name": "stdout",
     "output_type": "stream",
     "text": [
      "60 0 1\n",
      "60 0 2\n",
      "120 1 1\n",
      "120 0 2\n",
      "180 2 1\n",
      "180 0 2\n",
      "240 3 1\n",
      "240 0 2\n",
      "300 4 1\n",
      "300 0 2\n",
      "360 5 1\n",
      "360 0 2\n",
      "420 6 1\n",
      "420 0 2\n",
      "480 7 1\n",
      "480 0 2\n",
      "540 8 1\n",
      "540 0 2\n",
      "600 9 1\n",
      "600 0 2\n",
      "660 10 1\n",
      "660 0 2\n",
      "720 11 1\n",
      "720 0 2\n",
      "780 12 1\n",
      "780 0 2\n",
      "840 13 1\n",
      "840 0 2\n",
      "900 14 1\n",
      "900 0 2\n",
      "960 15 1\n",
      "960 0 2\n",
      "1020 16 1\n",
      "1020 0 2\n",
      "1080 17 1\n",
      "1080 0 2\n",
      "1140 18 1\n",
      "1140 0 2\n",
      "1200 19 1\n",
      "1200 0 2\n",
      "1260 20 1\n",
      "1260 0 2\n",
      "1320 21 1\n",
      "1320 0 2\n",
      "1380 22 1\n",
      "1380 0 2\n",
      "1440 23 1\n",
      "1440 0 2\n",
      "1500 24 1\n",
      "1500 0 2\n",
      "1560 25 1\n",
      "1560 0 2\n",
      "1620 26 1\n",
      "1620 0 2\n",
      "1680 27 1\n",
      "1680 0 2\n",
      "1740 28 1\n",
      "1740 0 2\n",
      "1800 29 1\n",
      "1800 0 2\n",
      "1860 30 1\n",
      "1860 0 2\n",
      "1920 31 1\n",
      "1920 0 2\n",
      "1980 32 1\n",
      "1980 0 2\n",
      "2040 33 1\n",
      "2040 0 2\n",
      "2100 34 1\n",
      "2100 0 2\n",
      "2160 35 1\n",
      "2160 0 2\n",
      "2220 36 1\n",
      "2220 0 2\n",
      "2280 37 1\n",
      "2280 0 2\n",
      "2340 38 1\n",
      "2340 0 2\n",
      "2400 39 1\n",
      "2400 0 2\n",
      "2460 40 1\n",
      "2460 0 2\n",
      "2520 41 1\n",
      "2520 0 2\n",
      "2580 42 1\n",
      "2580 0 2\n",
      "2640 43 1\n",
      "2640 0 2\n",
      "2700 44 1\n",
      "2700 0 2\n",
      "2760 45 1\n",
      "2760 0 2\n",
      "2820 46 1\n",
      "2820 0 2\n",
      "2880 47 1\n",
      "2880 0 2\n",
      "2940 48 1\n",
      "2940 0 2\n",
      "3000 49 1\n",
      "3000 0 2\n",
      "3060 50 1\n",
      "3060 0 2\n",
      "3120 51 1\n",
      "3120 0 2\n",
      "3180 52 1\n",
      "3180 0 2\n",
      "3240 53 1\n",
      "3240 0 2\n",
      "3300 54 1\n",
      "3300 0 2\n",
      "3360 55 1\n",
      "3360 0 2\n",
      "3420 56 1\n",
      "3420 0 2\n",
      "3480 57 1\n",
      "3480 0 2\n",
      "3540 58 1\n",
      "3540 0 2\n",
      "3600 59 1\n",
      "3600 0 2\n"
     ]
    },
    {
     "data": {
      "text/plain": [
       "3600"
      ]
     },
     "execution_count": 134,
     "metadata": {},
     "output_type": "execute_result"
    }
   ],
   "source": [
    "for_loop(60,1) # 결과적으로 x를 제곱한 함수"
   ]
  },
  {
   "cell_type": "code",
   "execution_count": 135,
   "id": "ed0cabc1",
   "metadata": {},
   "outputs": [],
   "source": [
    "def list_return(x, y, z, w):\n",
    "    return [i+x+z for i in range(w)]"
   ]
  },
  {
   "cell_type": "code",
   "execution_count": null,
   "id": "396478ea",
   "metadata": {},
   "outputs": [],
   "source": [
    "def list_return(x, y, z, w):\n",
    "    for i  in range (w):\n",
    "        a = i+x+z\n",
    "    return a\n",
    "\n",
    "60+3+0, 60+3+1, 60+3+2, 60+3+3"
   ]
  },
  {
   "cell_type": "code",
   "execution_count": null,
   "id": "d4be7d45",
   "metadata": {},
   "outputs": [],
   "source": []
  }
 ],
 "metadata": {
  "kernelspec": {
   "display_name": "Python 3 (ipykernel)",
   "language": "python",
   "name": "python3"
  },
  "language_info": {
   "codemirror_mode": {
    "name": "ipython",
    "version": 3
   },
   "file_extension": ".py",
   "mimetype": "text/x-python",
   "name": "python",
   "nbconvert_exporter": "python",
   "pygments_lexer": "ipython3",
   "version": "3.9.13"
  }
 },
 "nbformat": 4,
 "nbformat_minor": 5
}
